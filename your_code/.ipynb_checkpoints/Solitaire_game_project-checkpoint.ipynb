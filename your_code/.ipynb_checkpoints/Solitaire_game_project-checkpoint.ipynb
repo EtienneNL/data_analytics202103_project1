{
 "cells": [
  {
   "cell_type": "code",
   "execution_count": 1,
   "metadata": {},
   "outputs": [],
   "source": [
    "def play_decision():\n",
    "    play_answer = input('Do you wanna play solitaire? Press \\'y\\' for yes; \\'n\\' for no: \\n')\n",
    "    return play_answer"
   ]
  },
  {
   "cell_type": "code",
   "execution_count": 2,
   "metadata": {},
   "outputs": [],
   "source": [
    "def deal_cards(play_answer):\n",
    "    \"\"\"\n",
    "    This function is to deal cards after the play_decision function\n",
    "    Input: str\n",
    "    Output: \n",
    "        - back-end lists (of cards)\n",
    "        - front-end strings --> printed visible cards for the player to see\n",
    "    \"\"\"\n",
    "    if play_answer == 'n':\n",
    "        pass\n",
    "    if play_answer == 'y':\n",
    "        number_list = [str(i+1) for i in range(13)]\n",
    "        symbols = [['♥', 'red'], ['♦', 'red'], ['♠', 'black'], ['♣', 'black']]\n",
    "\n",
    "        # the total collection of 52 cards\n",
    "        card_collection = [[number, symbol[0], symbol[1]] for symbol in symbols for number in number_list]\n",
    "\n",
    "        total_index = set(range(52))\n",
    "        stock_index = random.sample(range(52), 24)   \n",
    "        rest_index = total_index - set(stock_index)\n",
    "\n",
    "        # to create a list to contain lists of all cards in each tableau   \n",
    "        tableaus = []    \n",
    "        for i in range(7):\n",
    "            card = random.sample(rest_index, i+1)\n",
    "            tableaus.append(card)\n",
    "            rest_index = rest_index - set(card)\n",
    "\n",
    "        # collection of cards in the stock pile\n",
    "        stock_cards = [card_collection[i] for i in stock_index]   \n",
    "\n",
    "        # to create the cards in tableaus\n",
    "        for tableau in tableaus:\n",
    "            for i in range(len(tableau)):\n",
    "                tableau[i] = card_collection[tableau[i]]\n",
    "        \n",
    "        # to create a list to contain one visible card from each tableau for the player\n",
    "        visible_tableaus_cards = [[tableau.pop()] for tableau in tableaus]\n",
    "\n",
    "        # to create a list to contain the waste pile\n",
    "        visible_stock_card = stock_cards[-1]\n",
    "        \n",
    "        # to subtract visible stock card from stock cards\n",
    "        stock_cards.pop() \n",
    "\n",
    "        # to create lists of the 4 foundations\n",
    "        foundations = [[] for i in range(4)]\n",
    "        \n",
    "        # this is to return the variables\n",
    "        return stock_cards, visible_stock_card, foundations, tableaus, visible_tableaus_cards"
   ]
  },
  {
   "cell_type": "code",
   "execution_count": 3,
   "metadata": {},
   "outputs": [],
   "source": [
    "def print_frontend(visible_stock_card, foundations, visible_tableaus_cards):\n",
    "    \n",
    "    # to print out output for the players to see\n",
    "    print('--------------------------------------------------------------------------------------')\n",
    "    print('You have the following visible cards :\\n ')\n",
    "    print(f'Stock pile : {visible_stock_card}')\n",
    "    for i in range(4):\n",
    "        try:\n",
    "            print(f\"Foundation {i+1}: {foundations[i][-1]}\")\n",
    "        except IndexError:\n",
    "            print(f\"Foundation {i+1}: {foundations[i]}\")\n",
    "\n",
    "    print(f'\\n')\n",
    "    \n",
    "    for i in range(7):\n",
    "        print(f\"Tableau {i+1}: {visible_tableaus_cards[i]}\")\n",
    "    print('--------------------------------------------------------------------------------------')\n",
    "    return "
   ]
  },
  {
   "cell_type": "code",
   "execution_count": 4,
   "metadata": {},
   "outputs": [],
   "source": [
    "def main_next_move():\n",
    "    \"\"\"\n",
    "    This function is meant to ask for player's next move\n",
    "    Input: int from 1 to ...\n",
    "    Output: str of int\n",
    "    \n",
    "    \"\"\"\n",
    "    next_move = input(\"\"\"\n",
    "What is your next move?\n",
    "    Press \\'1\\': to move cards among tableaus\n",
    "    Press \\'2\\': to move cards from tableaus to foundations\n",
    "    Press \\'3\\': to open card in stock pile\n",
    "    Press \\'4\\': to move card from stock pile to tableaus\n",
    "    Press \\'5\\': to start new game\n",
    "    \"\"\")\n",
    "    return next_move"
   ]
  },
  {
   "cell_type": "code",
   "execution_count": 5,
   "metadata": {},
   "outputs": [],
   "source": [
    "def move_among_tableaus(tableaus, visible_tableaus_cards):\n",
    "    \n",
    "    from_tableau_choice = input('Which tableau do you want to move a card from? Choose an integer between 1 and 7: ')\n",
    "    to_tableau_choice = input(f'Which tableau do you want to move the card to? Choose an integer between 1 and 7, except for {from_tableau_choice}: ')\n",
    "    while to_tableau_choice == from_tableau_choice:\n",
    "        print('The move-to tableau should be different from the move-from tableau!')\n",
    "        to_tableau_choice = input(f'Which tableau do you want to move the card to? Choose an integer between 1 and 7, except for {from_tableau_choice}: ')\n",
    "    \n",
    "    if visible_tableaus_cards[int(to_tableau_choice)-1] != [[]]:\n",
    "        if int(visible_tableaus_cards[int(from_tableau_choice)-1][0][0]) == int(visible_tableaus_cards[int(to_tableau_choice)-1][-1][0]) - 1 and visible_tableaus_cards[int(from_tableau_choice)-1][0][-1] != visible_tableaus_cards[int(to_tableau_choice)-1][-1][-1]:\n",
    "            for i in range(len(visible_tableaus_cards[int(from_tableau_choice)-1])):\n",
    "                visible_tableaus_cards[int(to_tableau_choice)-1].append(visible_tableaus_cards[int(from_tableau_choice)-1].pop(0))    \n",
    "            try:\n",
    "                visible_tableaus_cards[int(from_tableau_choice)-1].append(tableaus[int(from_tableau_choice)-1].pop())\n",
    "            except IndexError:\n",
    "                visible_tableaus_cards[int(from_tableau_choice)-1].append([])\n",
    "        else:\n",
    "            print('The tableau card cannot be moved!')\n",
    "    else:\n",
    "        if visible_tableaus_cards[int(from_tableau_choice)-1][0][0] == '13':\n",
    "            visible_tableaus_cards[int(to_tableau_choice)-1].pop()\n",
    "            for i in range(len(visible_tableaus_cards[int(from_tableau_choice)-1])):\n",
    "                visible_tableaus_cards[int(to_tableau_choice)-1].append(visible_tableaus_cards[int(from_tableau_choice)-1].pop(0))\n",
    "            try:\n",
    "                visible_tableaus_cards[int(from_tableau_choice)-1].append(tableaus[int(from_tableau_choice)-1].pop())\n",
    "            except IndexError:\n",
    "                visible_tableaus_cards[int(from_tableau_choice)-1].append([])   \n",
    "    \n",
    "    return tableaus, visible_tableaus_cards"
   ]
  },
  {
   "cell_type": "code",
   "execution_count": 6,
   "metadata": {},
   "outputs": [],
   "source": [
    "def move_tableaus_to_foundations(foundations, tableaus, visible_tableaus_cards):\n",
    "    \n",
    "    symbols = ['♥', '♦', '♠', '♣']\n",
    "    \n",
    "    from_tableau_choice = input('Which tableau do you want to move a card from? Choose an integer between 1 and 7: ')\n",
    "    to_foundation_choice = input(\"\"\"\n",
    "Which foundation do you want to move the card to? Choose an integer between 1 and 4: \n",
    "    1 for ♥; 2 for ♦; 3 for ♠; 4 for ♣\n",
    "    \"\"\")\n",
    "    try:\n",
    "        while visible_tableaus_cards[int(from_tableau_choice)-1][-1][1] != symbols[int(to_foundation_choice)-1]:\n",
    "            print('Card symbol does not match with designated foundation!')\n",
    "            to_foundation_choice = input(\"\"\"\n",
    "Which foundation do you want to move the card to? Choose an integer between 1 and 4: \n",
    "    1 for ♥; 2 for ♦; 3 for ♠; 4 for ♣ \n",
    "    \"\"\")\n",
    "    except IndexError:\n",
    "        print(\"The card cannot be moved!\")\n",
    "    \n",
    "    count = 0 \n",
    "    \n",
    "    if foundations[int(to_foundation_choice)-1] == []:\n",
    "        if visible_tableaus_cards[int(from_tableau_choice)-1][-1][0] == '1':\n",
    "            if len(visible_tableaus_cards[int(from_tableau_choice)-1]) != 1:\n",
    "                foundations[int(to_foundation_choice)-1].append(visible_tableaus_cards[int(from_tableau_choice)-1].pop())\n",
    "            else:\n",
    "                foundations[int(to_foundation_choice)-1].append(visible_tableaus_cards[int(from_tableau_choice)-1].pop())\n",
    "                try:\n",
    "                    visible_tableaus_cards[int(from_tableau_choice)-1].append(tableaus[int(from_tableau_choice)-1].pop())\n",
    "                except IndexError:\n",
    "                    visible_tableaus_cards[int(from_tableau_choice)-1].append([])\n",
    "            count += 1\n",
    "        else:\n",
    "            print('The card cannot be moved!')\n",
    "    else:\n",
    "        if int(visible_tableaus_cards[int(from_tableau_choice)-1][-1][0]) == int(foundations[int(to_foundation_choice)-1][-1][0]) + 1:\n",
    "            if len(visible_tableaus_cards[int(from_tableau_choice)-1]) != 1:\n",
    "                foundations[int(to_foundation_choice)-1].append(visible_tableaus_cards[int(from_tableau_choice)-1].pop())\n",
    "            else:\n",
    "                foundations[int(to_foundation_choice)-1].append(visible_tableaus_cards[int(from_tableau_choice)-1].pop())\n",
    "                try:\n",
    "                    visible_tableaus_cards[int(from_tableau_choice)-1].append(tableaus[int(from_tableau_choice)-1].pop())\n",
    "                except IndexError:\n",
    "                    visible_tableaus_cards[int(from_tableau_choice)-1].append([]) \n",
    "            count += 1\n",
    "        else:\n",
    "            print('The card cannot be moved!')\n",
    "    \n",
    "    print(count)\n",
    "\n",
    "    return foundations, tableaus, visible_tableaus_cards, count"
   ]
  },
  {
   "cell_type": "code",
   "execution_count": 7,
   "metadata": {},
   "outputs": [],
   "source": [
    "def open_stock_card(stock_cards, visible_stock_card):\n",
    "    \n",
    "    stock_cards.insert(0, visible_stock_card)\n",
    "    visible_stock_card = stock_cards.pop()\n",
    "    \n",
    "    return stock_cards, visible_stock_card"
   ]
  },
  {
   "cell_type": "code",
   "execution_count": 8,
   "metadata": {},
   "outputs": [],
   "source": [
    "def move_stock_card_to_tableaus(stock_cards, visible_stock_card, visible_tableaus_cards):\n",
    "    \n",
    "    to_tableau_choice = input(f'Which tableau do you want to move the card to? Choose an integer between 1 and 7, :')\n",
    "    if visible_tableaus_cards[int(to_tableau_choice)-1] != [[]]:\n",
    "        if int(visible_stock_card[0]) == int(visible_tableaus_cards[int(to_tableau_choice)-1][-1][0]) - 1 and visible_stock_card[-1] != visible_tableaus_cards[int(to_tableau_choice)-1][-1][-1]:\n",
    "            visible_tableaus_cards[int(to_tableau_choice)-1].append(visible_stock_card)\n",
    "            visible_stock_card = stock_cards.pop()\n",
    "        else:\n",
    "            print('The stock card cannot be moved!')\n",
    "    else:\n",
    "        if visible_stock_card[0] == '13':\n",
    "            visible_tableaus_cards[int(to_tableau_choice)-1].pop()\n",
    "            visible_tableaus_cards[int(to_tableau_choice)-1].append(visible_stock_card)\n",
    "            visible_stock_card = stock_cards.pop()\n",
    "        else:\n",
    "            print('The stock card cannot be moved!')\n",
    "\n",
    "    return stock_cards, visible_stock_card, visible_tableaus_cards"
   ]
  },
  {
   "cell_type": "code",
   "execution_count": 9,
   "metadata": {},
   "outputs": [],
   "source": [
    "def quit_game():\n",
    "    total_cards_in_foundations = 53\n",
    "    print('The game has been restarted \\n')\n",
    "    return total_cards_in_foundations"
   ]
  },
  {
   "cell_type": "code",
   "execution_count": 11,
   "metadata": {},
   "outputs": [
    {
     "name": "stdin",
     "output_type": "stream",
     "text": [
      "Do you wanna play solitaire? Press 'y' for yes; 'n' for no: \n",
      " y\n"
     ]
    },
    {
     "name": "stdout",
     "output_type": "stream",
     "text": [
      "--------------------------------------------------------------------------------------\n",
      "You have the following visible cards :\n",
      " \n",
      "Stock pile : ['7', '♦', 'red']\n",
      "Foundation 1: []\n",
      "Foundation 2: []\n",
      "Foundation 3: []\n",
      "Foundation 4: []\n",
      "\n",
      "\n",
      "Tableau 1: [['11', '♦', 'red']]\n",
      "Tableau 2: [['11', '♠', 'black']]\n",
      "Tableau 3: [['12', '♥', 'red']]\n",
      "Tableau 4: [['3', '♣', 'black']]\n",
      "Tableau 5: [['11', '♣', 'black']]\n",
      "Tableau 6: [['7', '♣', 'black']]\n",
      "Tableau 7: [['2', '♦', 'red']]\n",
      "--------------------------------------------------------------------------------------\n"
     ]
    },
    {
     "name": "stdin",
     "output_type": "stream",
     "text": [
      "\n",
      "What is your next move?\n",
      "    Press '1': to move cards among tableaus\n",
      "    Press '2': to move cards from tableaus to foundations\n",
      "    Press '3': to open card in stock pile\n",
      "    Press '4': to move card from stock pile to tableaus\n",
      "    Press '5': to start new game\n",
      "     1\n",
      "Which tableau do you want to move a card from? Choose an integer between 1 and 7:  2\n",
      "Which tableau do you want to move the card to? Choose an integer between 1 and 7, except for 2:  3\n"
     ]
    },
    {
     "name": "stdout",
     "output_type": "stream",
     "text": [
      "--------------------------------------------------------------------------------------\n",
      "You have the following visible cards :\n",
      " \n",
      "Stock pile : ['7', '♦', 'red']\n",
      "Foundation 1: []\n",
      "Foundation 2: []\n",
      "Foundation 3: []\n",
      "Foundation 4: []\n",
      "\n",
      "\n",
      "Tableau 1: [['11', '♦', 'red']]\n",
      "Tableau 2: [['3', '♥', 'red']]\n",
      "Tableau 3: [['12', '♥', 'red'], ['11', '♠', 'black']]\n",
      "Tableau 4: [['3', '♣', 'black']]\n",
      "Tableau 5: [['11', '♣', 'black']]\n",
      "Tableau 6: [['7', '♣', 'black']]\n",
      "Tableau 7: [['2', '♦', 'red']]\n",
      "--------------------------------------------------------------------------------------\n"
     ]
    },
    {
     "name": "stdin",
     "output_type": "stream",
     "text": [
      "\n",
      "What is your next move?\n",
      "    Press '1': to move cards among tableaus\n",
      "    Press '2': to move cards from tableaus to foundations\n",
      "    Press '3': to open card in stock pile\n",
      "    Press '4': to move card from stock pile to tableaus\n",
      "    Press '5': to start new game\n",
      "     1\n",
      "Which tableau do you want to move a card from? Choose an integer between 1 and 7:  7\n",
      "Which tableau do you want to move the card to? Choose an integer between 1 and 7, except for 7:  4\n"
     ]
    },
    {
     "name": "stdout",
     "output_type": "stream",
     "text": [
      "--------------------------------------------------------------------------------------\n",
      "You have the following visible cards :\n",
      " \n",
      "Stock pile : ['7', '♦', 'red']\n",
      "Foundation 1: []\n",
      "Foundation 2: []\n",
      "Foundation 3: []\n",
      "Foundation 4: []\n",
      "\n",
      "\n",
      "Tableau 1: [['11', '♦', 'red']]\n",
      "Tableau 2: [['3', '♥', 'red']]\n",
      "Tableau 3: [['12', '♥', 'red'], ['11', '♠', 'black']]\n",
      "Tableau 4: [['3', '♣', 'black'], ['2', '♦', 'red']]\n",
      "Tableau 5: [['11', '♣', 'black']]\n",
      "Tableau 6: [['7', '♣', 'black']]\n",
      "Tableau 7: [['13', '♥', 'red']]\n",
      "--------------------------------------------------------------------------------------\n"
     ]
    },
    {
     "name": "stdin",
     "output_type": "stream",
     "text": [
      "\n",
      "What is your next move?\n",
      "    Press '1': to move cards among tableaus\n",
      "    Press '2': to move cards from tableaus to foundations\n",
      "    Press '3': to open card in stock pile\n",
      "    Press '4': to move card from stock pile to tableaus\n",
      "    Press '5': to start new game\n",
      "     3\n"
     ]
    },
    {
     "name": "stdout",
     "output_type": "stream",
     "text": [
      "--------------------------------------------------------------------------------------\n",
      "You have the following visible cards :\n",
      " \n",
      "Stock pile : ['11', '♥', 'red']\n",
      "Foundation 1: []\n",
      "Foundation 2: []\n",
      "Foundation 3: []\n",
      "Foundation 4: []\n",
      "\n",
      "\n",
      "Tableau 1: [['11', '♦', 'red']]\n",
      "Tableau 2: [['3', '♥', 'red']]\n",
      "Tableau 3: [['12', '♥', 'red'], ['11', '♠', 'black']]\n",
      "Tableau 4: [['3', '♣', 'black'], ['2', '♦', 'red']]\n",
      "Tableau 5: [['11', '♣', 'black']]\n",
      "Tableau 6: [['7', '♣', 'black']]\n",
      "Tableau 7: [['13', '♥', 'red']]\n",
      "--------------------------------------------------------------------------------------\n"
     ]
    },
    {
     "name": "stdin",
     "output_type": "stream",
     "text": [
      "\n",
      "What is your next move?\n",
      "    Press '1': to move cards among tableaus\n",
      "    Press '2': to move cards from tableaus to foundations\n",
      "    Press '3': to open card in stock pile\n",
      "    Press '4': to move card from stock pile to tableaus\n",
      "    Press '5': to start new game\n",
      "     3\n"
     ]
    },
    {
     "name": "stdout",
     "output_type": "stream",
     "text": [
      "--------------------------------------------------------------------------------------\n",
      "You have the following visible cards :\n",
      " \n",
      "Stock pile : ['12', '♠', 'black']\n",
      "Foundation 1: []\n",
      "Foundation 2: []\n",
      "Foundation 3: []\n",
      "Foundation 4: []\n",
      "\n",
      "\n",
      "Tableau 1: [['11', '♦', 'red']]\n",
      "Tableau 2: [['3', '♥', 'red']]\n",
      "Tableau 3: [['12', '♥', 'red'], ['11', '♠', 'black']]\n",
      "Tableau 4: [['3', '♣', 'black'], ['2', '♦', 'red']]\n",
      "Tableau 5: [['11', '♣', 'black']]\n",
      "Tableau 6: [['7', '♣', 'black']]\n",
      "Tableau 7: [['13', '♥', 'red']]\n",
      "--------------------------------------------------------------------------------------\n"
     ]
    },
    {
     "name": "stdin",
     "output_type": "stream",
     "text": [
      "\n",
      "What is your next move?\n",
      "    Press '1': to move cards among tableaus\n",
      "    Press '2': to move cards from tableaus to foundations\n",
      "    Press '3': to open card in stock pile\n",
      "    Press '4': to move card from stock pile to tableaus\n",
      "    Press '5': to start new game\n",
      "     4\n",
      "Which tableau do you want to move the card to? Choose an integer between 1 and 7, : 7\n"
     ]
    },
    {
     "name": "stdout",
     "output_type": "stream",
     "text": [
      "--------------------------------------------------------------------------------------\n",
      "You have the following visible cards :\n",
      " \n",
      "Stock pile : ['8', '♥', 'red']\n",
      "Foundation 1: []\n",
      "Foundation 2: []\n",
      "Foundation 3: []\n",
      "Foundation 4: []\n",
      "\n",
      "\n",
      "Tableau 1: [['11', '♦', 'red']]\n",
      "Tableau 2: [['3', '♥', 'red']]\n",
      "Tableau 3: [['12', '♥', 'red'], ['11', '♠', 'black']]\n",
      "Tableau 4: [['3', '♣', 'black'], ['2', '♦', 'red']]\n",
      "Tableau 5: [['11', '♣', 'black']]\n",
      "Tableau 6: [['7', '♣', 'black']]\n",
      "Tableau 7: [['13', '♥', 'red'], ['12', '♠', 'black']]\n",
      "--------------------------------------------------------------------------------------\n"
     ]
    },
    {
     "name": "stdin",
     "output_type": "stream",
     "text": [
      "\n",
      "What is your next move?\n",
      "    Press '1': to move cards among tableaus\n",
      "    Press '2': to move cards from tableaus to foundations\n",
      "    Press '3': to open card in stock pile\n",
      "    Press '4': to move card from stock pile to tableaus\n",
      "    Press '5': to start new game\n",
      "     3\n"
     ]
    },
    {
     "name": "stdout",
     "output_type": "stream",
     "text": [
      "--------------------------------------------------------------------------------------\n",
      "You have the following visible cards :\n",
      " \n",
      "Stock pile : ['12', '♣', 'black']\n",
      "Foundation 1: []\n",
      "Foundation 2: []\n",
      "Foundation 3: []\n",
      "Foundation 4: []\n",
      "\n",
      "\n",
      "Tableau 1: [['11', '♦', 'red']]\n",
      "Tableau 2: [['3', '♥', 'red']]\n",
      "Tableau 3: [['12', '♥', 'red'], ['11', '♠', 'black']]\n",
      "Tableau 4: [['3', '♣', 'black'], ['2', '♦', 'red']]\n",
      "Tableau 5: [['11', '♣', 'black']]\n",
      "Tableau 6: [['7', '♣', 'black']]\n",
      "Tableau 7: [['13', '♥', 'red'], ['12', '♠', 'black']]\n",
      "--------------------------------------------------------------------------------------\n"
     ]
    },
    {
     "name": "stdin",
     "output_type": "stream",
     "text": [
      "\n",
      "What is your next move?\n",
      "    Press '1': to move cards among tableaus\n",
      "    Press '2': to move cards from tableaus to foundations\n",
      "    Press '3': to open card in stock pile\n",
      "    Press '4': to move card from stock pile to tableaus\n",
      "    Press '5': to start new game\n",
      "     3\n"
     ]
    },
    {
     "name": "stdout",
     "output_type": "stream",
     "text": [
      "--------------------------------------------------------------------------------------\n",
      "You have the following visible cards :\n",
      " \n",
      "Stock pile : ['5', '♠', 'black']\n",
      "Foundation 1: []\n",
      "Foundation 2: []\n",
      "Foundation 3: []\n",
      "Foundation 4: []\n",
      "\n",
      "\n",
      "Tableau 1: [['11', '♦', 'red']]\n",
      "Tableau 2: [['3', '♥', 'red']]\n",
      "Tableau 3: [['12', '♥', 'red'], ['11', '♠', 'black']]\n",
      "Tableau 4: [['3', '♣', 'black'], ['2', '♦', 'red']]\n",
      "Tableau 5: [['11', '♣', 'black']]\n",
      "Tableau 6: [['7', '♣', 'black']]\n",
      "Tableau 7: [['13', '♥', 'red'], ['12', '♠', 'black']]\n",
      "--------------------------------------------------------------------------------------\n"
     ]
    },
    {
     "name": "stdin",
     "output_type": "stream",
     "text": [
      "\n",
      "What is your next move?\n",
      "    Press '1': to move cards among tableaus\n",
      "    Press '2': to move cards from tableaus to foundations\n",
      "    Press '3': to open card in stock pile\n",
      "    Press '4': to move card from stock pile to tableaus\n",
      "    Press '5': to start new game\n",
      "     3\n"
     ]
    },
    {
     "name": "stdout",
     "output_type": "stream",
     "text": [
      "--------------------------------------------------------------------------------------\n",
      "You have the following visible cards :\n",
      " \n",
      "Stock pile : ['4', '♥', 'red']\n",
      "Foundation 1: []\n",
      "Foundation 2: []\n",
      "Foundation 3: []\n",
      "Foundation 4: []\n",
      "\n",
      "\n",
      "Tableau 1: [['11', '♦', 'red']]\n",
      "Tableau 2: [['3', '♥', 'red']]\n",
      "Tableau 3: [['12', '♥', 'red'], ['11', '♠', 'black']]\n",
      "Tableau 4: [['3', '♣', 'black'], ['2', '♦', 'red']]\n",
      "Tableau 5: [['11', '♣', 'black']]\n",
      "Tableau 6: [['7', '♣', 'black']]\n",
      "Tableau 7: [['13', '♥', 'red'], ['12', '♠', 'black']]\n",
      "--------------------------------------------------------------------------------------\n"
     ]
    },
    {
     "name": "stdin",
     "output_type": "stream",
     "text": [
      "\n",
      "What is your next move?\n",
      "    Press '1': to move cards among tableaus\n",
      "    Press '2': to move cards from tableaus to foundations\n",
      "    Press '3': to open card in stock pile\n",
      "    Press '4': to move card from stock pile to tableaus\n",
      "    Press '5': to start new game\n",
      "     3\n"
     ]
    },
    {
     "name": "stdout",
     "output_type": "stream",
     "text": [
      "--------------------------------------------------------------------------------------\n",
      "You have the following visible cards :\n",
      " \n",
      "Stock pile : ['6', '♠', 'black']\n",
      "Foundation 1: []\n",
      "Foundation 2: []\n",
      "Foundation 3: []\n",
      "Foundation 4: []\n",
      "\n",
      "\n",
      "Tableau 1: [['11', '♦', 'red']]\n",
      "Tableau 2: [['3', '♥', 'red']]\n",
      "Tableau 3: [['12', '♥', 'red'], ['11', '♠', 'black']]\n",
      "Tableau 4: [['3', '♣', 'black'], ['2', '♦', 'red']]\n",
      "Tableau 5: [['11', '♣', 'black']]\n",
      "Tableau 6: [['7', '♣', 'black']]\n",
      "Tableau 7: [['13', '♥', 'red'], ['12', '♠', 'black']]\n",
      "--------------------------------------------------------------------------------------\n"
     ]
    },
    {
     "name": "stdin",
     "output_type": "stream",
     "text": [
      "\n",
      "What is your next move?\n",
      "    Press '1': to move cards among tableaus\n",
      "    Press '2': to move cards from tableaus to foundations\n",
      "    Press '3': to open card in stock pile\n",
      "    Press '4': to move card from stock pile to tableaus\n",
      "    Press '5': to start new game\n",
      "     4\n",
      "Which tableau do you want to move the card to? Choose an integer between 1 and 7, : 6\n"
     ]
    },
    {
     "name": "stdout",
     "output_type": "stream",
     "text": [
      "The stock card cannot be moved!\n",
      "--------------------------------------------------------------------------------------\n",
      "You have the following visible cards :\n",
      " \n",
      "Stock pile : ['6', '♠', 'black']\n",
      "Foundation 1: []\n",
      "Foundation 2: []\n",
      "Foundation 3: []\n",
      "Foundation 4: []\n",
      "\n",
      "\n",
      "Tableau 1: [['11', '♦', 'red']]\n",
      "Tableau 2: [['3', '♥', 'red']]\n",
      "Tableau 3: [['12', '♥', 'red'], ['11', '♠', 'black']]\n",
      "Tableau 4: [['3', '♣', 'black'], ['2', '♦', 'red']]\n",
      "Tableau 5: [['11', '♣', 'black']]\n",
      "Tableau 6: [['7', '♣', 'black']]\n",
      "Tableau 7: [['13', '♥', 'red'], ['12', '♠', 'black']]\n",
      "--------------------------------------------------------------------------------------\n"
     ]
    },
    {
     "name": "stdin",
     "output_type": "stream",
     "text": [
      "\n",
      "What is your next move?\n",
      "    Press '1': to move cards among tableaus\n",
      "    Press '2': to move cards from tableaus to foundations\n",
      "    Press '3': to open card in stock pile\n",
      "    Press '4': to move card from stock pile to tableaus\n",
      "    Press '5': to start new game\n",
      "     3\n"
     ]
    },
    {
     "name": "stdout",
     "output_type": "stream",
     "text": [
      "--------------------------------------------------------------------------------------\n",
      "You have the following visible cards :\n",
      " \n",
      "Stock pile : ['8', '♦', 'red']\n",
      "Foundation 1: []\n",
      "Foundation 2: []\n",
      "Foundation 3: []\n",
      "Foundation 4: []\n",
      "\n",
      "\n",
      "Tableau 1: [['11', '♦', 'red']]\n",
      "Tableau 2: [['3', '♥', 'red']]\n",
      "Tableau 3: [['12', '♥', 'red'], ['11', '♠', 'black']]\n",
      "Tableau 4: [['3', '♣', 'black'], ['2', '♦', 'red']]\n",
      "Tableau 5: [['11', '♣', 'black']]\n",
      "Tableau 6: [['7', '♣', 'black']]\n",
      "Tableau 7: [['13', '♥', 'red'], ['12', '♠', 'black']]\n",
      "--------------------------------------------------------------------------------------\n"
     ]
    },
    {
     "name": "stdin",
     "output_type": "stream",
     "text": [
      "\n",
      "What is your next move?\n",
      "    Press '1': to move cards among tableaus\n",
      "    Press '2': to move cards from tableaus to foundations\n",
      "    Press '3': to open card in stock pile\n",
      "    Press '4': to move card from stock pile to tableaus\n",
      "    Press '5': to start new game\n",
      "     3\n"
     ]
    },
    {
     "name": "stdout",
     "output_type": "stream",
     "text": [
      "--------------------------------------------------------------------------------------\n",
      "You have the following visible cards :\n",
      " \n",
      "Stock pile : ['3', '♦', 'red']\n",
      "Foundation 1: []\n",
      "Foundation 2: []\n",
      "Foundation 3: []\n",
      "Foundation 4: []\n",
      "\n",
      "\n",
      "Tableau 1: [['11', '♦', 'red']]\n",
      "Tableau 2: [['3', '♥', 'red']]\n",
      "Tableau 3: [['12', '♥', 'red'], ['11', '♠', 'black']]\n",
      "Tableau 4: [['3', '♣', 'black'], ['2', '♦', 'red']]\n",
      "Tableau 5: [['11', '♣', 'black']]\n",
      "Tableau 6: [['7', '♣', 'black']]\n",
      "Tableau 7: [['13', '♥', 'red'], ['12', '♠', 'black']]\n",
      "--------------------------------------------------------------------------------------\n"
     ]
    },
    {
     "name": "stdin",
     "output_type": "stream",
     "text": [
      "\n",
      "What is your next move?\n",
      "    Press '1': to move cards among tableaus\n",
      "    Press '2': to move cards from tableaus to foundations\n",
      "    Press '3': to open card in stock pile\n",
      "    Press '4': to move card from stock pile to tableaus\n",
      "    Press '5': to start new game\n",
      "     3\n"
     ]
    },
    {
     "name": "stdout",
     "output_type": "stream",
     "text": [
      "--------------------------------------------------------------------------------------\n",
      "You have the following visible cards :\n",
      " \n",
      "Stock pile : ['1', '♠', 'black']\n",
      "Foundation 1: []\n",
      "Foundation 2: []\n",
      "Foundation 3: []\n",
      "Foundation 4: []\n",
      "\n",
      "\n",
      "Tableau 1: [['11', '♦', 'red']]\n",
      "Tableau 2: [['3', '♥', 'red']]\n",
      "Tableau 3: [['12', '♥', 'red'], ['11', '♠', 'black']]\n",
      "Tableau 4: [['3', '♣', 'black'], ['2', '♦', 'red']]\n",
      "Tableau 5: [['11', '♣', 'black']]\n",
      "Tableau 6: [['7', '♣', 'black']]\n",
      "Tableau 7: [['13', '♥', 'red'], ['12', '♠', 'black']]\n",
      "--------------------------------------------------------------------------------------\n"
     ]
    },
    {
     "name": "stdin",
     "output_type": "stream",
     "text": [
      "\n",
      "What is your next move?\n",
      "    Press '1': to move cards among tableaus\n",
      "    Press '2': to move cards from tableaus to foundations\n",
      "    Press '3': to open card in stock pile\n",
      "    Press '4': to move card from stock pile to tableaus\n",
      "    Press '5': to start new game\n",
      "     3\n"
     ]
    },
    {
     "name": "stdout",
     "output_type": "stream",
     "text": [
      "--------------------------------------------------------------------------------------\n",
      "You have the following visible cards :\n",
      " \n",
      "Stock pile : ['8', '♠', 'black']\n",
      "Foundation 1: []\n",
      "Foundation 2: []\n",
      "Foundation 3: []\n",
      "Foundation 4: []\n",
      "\n",
      "\n",
      "Tableau 1: [['11', '♦', 'red']]\n",
      "Tableau 2: [['3', '♥', 'red']]\n",
      "Tableau 3: [['12', '♥', 'red'], ['11', '♠', 'black']]\n",
      "Tableau 4: [['3', '♣', 'black'], ['2', '♦', 'red']]\n",
      "Tableau 5: [['11', '♣', 'black']]\n",
      "Tableau 6: [['7', '♣', 'black']]\n",
      "Tableau 7: [['13', '♥', 'red'], ['12', '♠', 'black']]\n",
      "--------------------------------------------------------------------------------------\n"
     ]
    },
    {
     "name": "stdin",
     "output_type": "stream",
     "text": [
      "\n",
      "What is your next move?\n",
      "    Press '1': to move cards among tableaus\n",
      "    Press '2': to move cards from tableaus to foundations\n",
      "    Press '3': to open card in stock pile\n",
      "    Press '4': to move card from stock pile to tableaus\n",
      "    Press '5': to start new game\n",
      "     3\n"
     ]
    },
    {
     "name": "stdout",
     "output_type": "stream",
     "text": [
      "--------------------------------------------------------------------------------------\n",
      "You have the following visible cards :\n",
      " \n",
      "Stock pile : ['6', '♥', 'red']\n",
      "Foundation 1: []\n",
      "Foundation 2: []\n",
      "Foundation 3: []\n",
      "Foundation 4: []\n",
      "\n",
      "\n",
      "Tableau 1: [['11', '♦', 'red']]\n",
      "Tableau 2: [['3', '♥', 'red']]\n",
      "Tableau 3: [['12', '♥', 'red'], ['11', '♠', 'black']]\n",
      "Tableau 4: [['3', '♣', 'black'], ['2', '♦', 'red']]\n",
      "Tableau 5: [['11', '♣', 'black']]\n",
      "Tableau 6: [['7', '♣', 'black']]\n",
      "Tableau 7: [['13', '♥', 'red'], ['12', '♠', 'black']]\n",
      "--------------------------------------------------------------------------------------\n"
     ]
    },
    {
     "name": "stdin",
     "output_type": "stream",
     "text": [
      "\n",
      "What is your next move?\n",
      "    Press '1': to move cards among tableaus\n",
      "    Press '2': to move cards from tableaus to foundations\n",
      "    Press '3': to open card in stock pile\n",
      "    Press '4': to move card from stock pile to tableaus\n",
      "    Press '5': to start new game\n",
      "     4\n",
      "Which tableau do you want to move the card to? Choose an integer between 1 and 7, : 6\n"
     ]
    },
    {
     "name": "stdout",
     "output_type": "stream",
     "text": [
      "--------------------------------------------------------------------------------------\n",
      "You have the following visible cards :\n",
      " \n",
      "Stock pile : ['2', '♥', 'red']\n",
      "Foundation 1: []\n",
      "Foundation 2: []\n",
      "Foundation 3: []\n",
      "Foundation 4: []\n",
      "\n",
      "\n",
      "Tableau 1: [['11', '♦', 'red']]\n",
      "Tableau 2: [['3', '♥', 'red']]\n",
      "Tableau 3: [['12', '♥', 'red'], ['11', '♠', 'black']]\n",
      "Tableau 4: [['3', '♣', 'black'], ['2', '♦', 'red']]\n",
      "Tableau 5: [['11', '♣', 'black']]\n",
      "Tableau 6: [['7', '♣', 'black'], ['6', '♥', 'red']]\n",
      "Tableau 7: [['13', '♥', 'red'], ['12', '♠', 'black']]\n",
      "--------------------------------------------------------------------------------------\n"
     ]
    },
    {
     "name": "stdin",
     "output_type": "stream",
     "text": [
      "\n",
      "What is your next move?\n",
      "    Press '1': to move cards among tableaus\n",
      "    Press '2': to move cards from tableaus to foundations\n",
      "    Press '3': to open card in stock pile\n",
      "    Press '4': to move card from stock pile to tableaus\n",
      "    Press '5': to start new game\n",
      "     3\n"
     ]
    },
    {
     "name": "stdout",
     "output_type": "stream",
     "text": [
      "--------------------------------------------------------------------------------------\n",
      "You have the following visible cards :\n",
      " \n",
      "Stock pile : ['3', '♠', 'black']\n",
      "Foundation 1: []\n",
      "Foundation 2: []\n",
      "Foundation 3: []\n",
      "Foundation 4: []\n",
      "\n",
      "\n",
      "Tableau 1: [['11', '♦', 'red']]\n",
      "Tableau 2: [['3', '♥', 'red']]\n",
      "Tableau 3: [['12', '♥', 'red'], ['11', '♠', 'black']]\n",
      "Tableau 4: [['3', '♣', 'black'], ['2', '♦', 'red']]\n",
      "Tableau 5: [['11', '♣', 'black']]\n",
      "Tableau 6: [['7', '♣', 'black'], ['6', '♥', 'red']]\n",
      "Tableau 7: [['13', '♥', 'red'], ['12', '♠', 'black']]\n",
      "--------------------------------------------------------------------------------------\n"
     ]
    },
    {
     "name": "stdin",
     "output_type": "stream",
     "text": [
      "\n",
      "What is your next move?\n",
      "    Press '1': to move cards among tableaus\n",
      "    Press '2': to move cards from tableaus to foundations\n",
      "    Press '3': to open card in stock pile\n",
      "    Press '4': to move card from stock pile to tableaus\n",
      "    Press '5': to start new game\n",
      "     3\n"
     ]
    },
    {
     "name": "stdout",
     "output_type": "stream",
     "text": [
      "--------------------------------------------------------------------------------------\n",
      "You have the following visible cards :\n",
      " \n",
      "Stock pile : ['4', '♠', 'black']\n",
      "Foundation 1: []\n",
      "Foundation 2: []\n",
      "Foundation 3: []\n",
      "Foundation 4: []\n",
      "\n",
      "\n",
      "Tableau 1: [['11', '♦', 'red']]\n",
      "Tableau 2: [['3', '♥', 'red']]\n",
      "Tableau 3: [['12', '♥', 'red'], ['11', '♠', 'black']]\n",
      "Tableau 4: [['3', '♣', 'black'], ['2', '♦', 'red']]\n",
      "Tableau 5: [['11', '♣', 'black']]\n",
      "Tableau 6: [['7', '♣', 'black'], ['6', '♥', 'red']]\n",
      "Tableau 7: [['13', '♥', 'red'], ['12', '♠', 'black']]\n",
      "--------------------------------------------------------------------------------------\n"
     ]
    },
    {
     "name": "stdin",
     "output_type": "stream",
     "text": [
      "\n",
      "What is your next move?\n",
      "    Press '1': to move cards among tableaus\n",
      "    Press '2': to move cards from tableaus to foundations\n",
      "    Press '3': to open card in stock pile\n",
      "    Press '4': to move card from stock pile to tableaus\n",
      "    Press '5': to start new game\n",
      "     3\n"
     ]
    },
    {
     "name": "stdout",
     "output_type": "stream",
     "text": [
      "--------------------------------------------------------------------------------------\n",
      "You have the following visible cards :\n",
      " \n",
      "Stock pile : ['5', '♥', 'red']\n",
      "Foundation 1: []\n",
      "Foundation 2: []\n",
      "Foundation 3: []\n",
      "Foundation 4: []\n",
      "\n",
      "\n",
      "Tableau 1: [['11', '♦', 'red']]\n",
      "Tableau 2: [['3', '♥', 'red']]\n",
      "Tableau 3: [['12', '♥', 'red'], ['11', '♠', 'black']]\n",
      "Tableau 4: [['3', '♣', 'black'], ['2', '♦', 'red']]\n",
      "Tableau 5: [['11', '♣', 'black']]\n",
      "Tableau 6: [['7', '♣', 'black'], ['6', '♥', 'red']]\n",
      "Tableau 7: [['13', '♥', 'red'], ['12', '♠', 'black']]\n",
      "--------------------------------------------------------------------------------------\n"
     ]
    },
    {
     "name": "stdin",
     "output_type": "stream",
     "text": [
      "\n",
      "What is your next move?\n",
      "    Press '1': to move cards among tableaus\n",
      "    Press '2': to move cards from tableaus to foundations\n",
      "    Press '3': to open card in stock pile\n",
      "    Press '4': to move card from stock pile to tableaus\n",
      "    Press '5': to start new game\n",
      "     3\n"
     ]
    },
    {
     "name": "stdout",
     "output_type": "stream",
     "text": [
      "--------------------------------------------------------------------------------------\n",
      "You have the following visible cards :\n",
      " \n",
      "Stock pile : ['7', '♥', 'red']\n",
      "Foundation 1: []\n",
      "Foundation 2: []\n",
      "Foundation 3: []\n",
      "Foundation 4: []\n",
      "\n",
      "\n",
      "Tableau 1: [['11', '♦', 'red']]\n",
      "Tableau 2: [['3', '♥', 'red']]\n",
      "Tableau 3: [['12', '♥', 'red'], ['11', '♠', 'black']]\n",
      "Tableau 4: [['3', '♣', 'black'], ['2', '♦', 'red']]\n",
      "Tableau 5: [['11', '♣', 'black']]\n",
      "Tableau 6: [['7', '♣', 'black'], ['6', '♥', 'red']]\n",
      "Tableau 7: [['13', '♥', 'red'], ['12', '♠', 'black']]\n",
      "--------------------------------------------------------------------------------------\n"
     ]
    },
    {
     "name": "stdin",
     "output_type": "stream",
     "text": [
      "\n",
      "What is your next move?\n",
      "    Press '1': to move cards among tableaus\n",
      "    Press '2': to move cards from tableaus to foundations\n",
      "    Press '3': to open card in stock pile\n",
      "    Press '4': to move card from stock pile to tableaus\n",
      "    Press '5': to start new game\n",
      "     3\n"
     ]
    },
    {
     "name": "stdout",
     "output_type": "stream",
     "text": [
      "--------------------------------------------------------------------------------------\n",
      "You have the following visible cards :\n",
      " \n",
      "Stock pile : ['13', '♣', 'black']\n",
      "Foundation 1: []\n",
      "Foundation 2: []\n",
      "Foundation 3: []\n",
      "Foundation 4: []\n",
      "\n",
      "\n",
      "Tableau 1: [['11', '♦', 'red']]\n",
      "Tableau 2: [['3', '♥', 'red']]\n",
      "Tableau 3: [['12', '♥', 'red'], ['11', '♠', 'black']]\n",
      "Tableau 4: [['3', '♣', 'black'], ['2', '♦', 'red']]\n",
      "Tableau 5: [['11', '♣', 'black']]\n",
      "Tableau 6: [['7', '♣', 'black'], ['6', '♥', 'red']]\n",
      "Tableau 7: [['13', '♥', 'red'], ['12', '♠', 'black']]\n",
      "--------------------------------------------------------------------------------------\n"
     ]
    },
    {
     "name": "stdin",
     "output_type": "stream",
     "text": [
      "\n",
      "What is your next move?\n",
      "    Press '1': to move cards among tableaus\n",
      "    Press '2': to move cards from tableaus to foundations\n",
      "    Press '3': to open card in stock pile\n",
      "    Press '4': to move card from stock pile to tableaus\n",
      "    Press '5': to start new game\n",
      "     3\n"
     ]
    },
    {
     "name": "stdout",
     "output_type": "stream",
     "text": [
      "--------------------------------------------------------------------------------------\n",
      "You have the following visible cards :\n",
      " \n",
      "Stock pile : ['8', '♣', 'black']\n",
      "Foundation 1: []\n",
      "Foundation 2: []\n",
      "Foundation 3: []\n",
      "Foundation 4: []\n",
      "\n",
      "\n",
      "Tableau 1: [['11', '♦', 'red']]\n",
      "Tableau 2: [['3', '♥', 'red']]\n",
      "Tableau 3: [['12', '♥', 'red'], ['11', '♠', 'black']]\n",
      "Tableau 4: [['3', '♣', 'black'], ['2', '♦', 'red']]\n",
      "Tableau 5: [['11', '♣', 'black']]\n",
      "Tableau 6: [['7', '♣', 'black'], ['6', '♥', 'red']]\n",
      "Tableau 7: [['13', '♥', 'red'], ['12', '♠', 'black']]\n",
      "--------------------------------------------------------------------------------------\n"
     ]
    },
    {
     "name": "stdin",
     "output_type": "stream",
     "text": [
      "\n",
      "What is your next move?\n",
      "    Press '1': to move cards among tableaus\n",
      "    Press '2': to move cards from tableaus to foundations\n",
      "    Press '3': to open card in stock pile\n",
      "    Press '4': to move card from stock pile to tableaus\n",
      "    Press '5': to start new game\n",
      "     3\n"
     ]
    },
    {
     "name": "stdout",
     "output_type": "stream",
     "text": [
      "--------------------------------------------------------------------------------------\n",
      "You have the following visible cards :\n",
      " \n",
      "Stock pile : ['4', '♣', 'black']\n",
      "Foundation 1: []\n",
      "Foundation 2: []\n",
      "Foundation 3: []\n",
      "Foundation 4: []\n",
      "\n",
      "\n",
      "Tableau 1: [['11', '♦', 'red']]\n",
      "Tableau 2: [['3', '♥', 'red']]\n",
      "Tableau 3: [['12', '♥', 'red'], ['11', '♠', 'black']]\n",
      "Tableau 4: [['3', '♣', 'black'], ['2', '♦', 'red']]\n",
      "Tableau 5: [['11', '♣', 'black']]\n",
      "Tableau 6: [['7', '♣', 'black'], ['6', '♥', 'red']]\n",
      "Tableau 7: [['13', '♥', 'red'], ['12', '♠', 'black']]\n",
      "--------------------------------------------------------------------------------------\n"
     ]
    },
    {
     "name": "stdin",
     "output_type": "stream",
     "text": [
      "\n",
      "What is your next move?\n",
      "    Press '1': to move cards among tableaus\n",
      "    Press '2': to move cards from tableaus to foundations\n",
      "    Press '3': to open card in stock pile\n",
      "    Press '4': to move card from stock pile to tableaus\n",
      "    Press '5': to start new game\n",
      "     3\n"
     ]
    },
    {
     "name": "stdout",
     "output_type": "stream",
     "text": [
      "--------------------------------------------------------------------------------------\n",
      "You have the following visible cards :\n",
      " \n",
      "Stock pile : ['1', '♦', 'red']\n",
      "Foundation 1: []\n",
      "Foundation 2: []\n",
      "Foundation 3: []\n",
      "Foundation 4: []\n",
      "\n",
      "\n",
      "Tableau 1: [['11', '♦', 'red']]\n",
      "Tableau 2: [['3', '♥', 'red']]\n",
      "Tableau 3: [['12', '♥', 'red'], ['11', '♠', 'black']]\n",
      "Tableau 4: [['3', '♣', 'black'], ['2', '♦', 'red']]\n",
      "Tableau 5: [['11', '♣', 'black']]\n",
      "Tableau 6: [['7', '♣', 'black'], ['6', '♥', 'red']]\n",
      "Tableau 7: [['13', '♥', 'red'], ['12', '♠', 'black']]\n",
      "--------------------------------------------------------------------------------------\n"
     ]
    },
    {
     "name": "stdin",
     "output_type": "stream",
     "text": [
      "\n",
      "What is your next move?\n",
      "    Press '1': to move cards among tableaus\n",
      "    Press '2': to move cards from tableaus to foundations\n",
      "    Press '3': to open card in stock pile\n",
      "    Press '4': to move card from stock pile to tableaus\n",
      "    Press '5': to start new game\n",
      "     3\n"
     ]
    },
    {
     "name": "stdout",
     "output_type": "stream",
     "text": [
      "--------------------------------------------------------------------------------------\n",
      "You have the following visible cards :\n",
      " \n",
      "Stock pile : ['13', '♦', 'red']\n",
      "Foundation 1: []\n",
      "Foundation 2: []\n",
      "Foundation 3: []\n",
      "Foundation 4: []\n",
      "\n",
      "\n",
      "Tableau 1: [['11', '♦', 'red']]\n",
      "Tableau 2: [['3', '♥', 'red']]\n",
      "Tableau 3: [['12', '♥', 'red'], ['11', '♠', 'black']]\n",
      "Tableau 4: [['3', '♣', 'black'], ['2', '♦', 'red']]\n",
      "Tableau 5: [['11', '♣', 'black']]\n",
      "Tableau 6: [['7', '♣', 'black'], ['6', '♥', 'red']]\n",
      "Tableau 7: [['13', '♥', 'red'], ['12', '♠', 'black']]\n",
      "--------------------------------------------------------------------------------------\n"
     ]
    },
    {
     "name": "stdin",
     "output_type": "stream",
     "text": [
      "\n",
      "What is your next move?\n",
      "    Press '1': to move cards among tableaus\n",
      "    Press '2': to move cards from tableaus to foundations\n",
      "    Press '3': to open card in stock pile\n",
      "    Press '4': to move card from stock pile to tableaus\n",
      "    Press '5': to start new game\n",
      "     3\n"
     ]
    },
    {
     "name": "stdout",
     "output_type": "stream",
     "text": [
      "--------------------------------------------------------------------------------------\n",
      "You have the following visible cards :\n",
      " \n",
      "Stock pile : ['5', '♦', 'red']\n",
      "Foundation 1: []\n",
      "Foundation 2: []\n",
      "Foundation 3: []\n",
      "Foundation 4: []\n",
      "\n",
      "\n",
      "Tableau 1: [['11', '♦', 'red']]\n",
      "Tableau 2: [['3', '♥', 'red']]\n",
      "Tableau 3: [['12', '♥', 'red'], ['11', '♠', 'black']]\n",
      "Tableau 4: [['3', '♣', 'black'], ['2', '♦', 'red']]\n",
      "Tableau 5: [['11', '♣', 'black']]\n",
      "Tableau 6: [['7', '♣', 'black'], ['6', '♥', 'red']]\n",
      "Tableau 7: [['13', '♥', 'red'], ['12', '♠', 'black']]\n",
      "--------------------------------------------------------------------------------------\n"
     ]
    },
    {
     "name": "stdin",
     "output_type": "stream",
     "text": [
      "\n",
      "What is your next move?\n",
      "    Press '1': to move cards among tableaus\n",
      "    Press '2': to move cards from tableaus to foundations\n",
      "    Press '3': to open card in stock pile\n",
      "    Press '4': to move card from stock pile to tableaus\n",
      "    Press '5': to start new game\n",
      "     3\n"
     ]
    },
    {
     "name": "stdout",
     "output_type": "stream",
     "text": [
      "--------------------------------------------------------------------------------------\n",
      "You have the following visible cards :\n",
      " \n",
      "Stock pile : ['7', '♦', 'red']\n",
      "Foundation 1: []\n",
      "Foundation 2: []\n",
      "Foundation 3: []\n",
      "Foundation 4: []\n",
      "\n",
      "\n",
      "Tableau 1: [['11', '♦', 'red']]\n",
      "Tableau 2: [['3', '♥', 'red']]\n",
      "Tableau 3: [['12', '♥', 'red'], ['11', '♠', 'black']]\n",
      "Tableau 4: [['3', '♣', 'black'], ['2', '♦', 'red']]\n",
      "Tableau 5: [['11', '♣', 'black']]\n",
      "Tableau 6: [['7', '♣', 'black'], ['6', '♥', 'red']]\n",
      "Tableau 7: [['13', '♥', 'red'], ['12', '♠', 'black']]\n",
      "--------------------------------------------------------------------------------------\n"
     ]
    },
    {
     "name": "stdin",
     "output_type": "stream",
     "text": [
      "\n",
      "What is your next move?\n",
      "    Press '1': to move cards among tableaus\n",
      "    Press '2': to move cards from tableaus to foundations\n",
      "    Press '3': to open card in stock pile\n",
      "    Press '4': to move card from stock pile to tableaus\n",
      "    Press '5': to start new game\n",
      "     3\n"
     ]
    },
    {
     "name": "stdout",
     "output_type": "stream",
     "text": [
      "--------------------------------------------------------------------------------------\n",
      "You have the following visible cards :\n",
      " \n",
      "Stock pile : ['11', '♥', 'red']\n",
      "Foundation 1: []\n",
      "Foundation 2: []\n",
      "Foundation 3: []\n",
      "Foundation 4: []\n",
      "\n",
      "\n",
      "Tableau 1: [['11', '♦', 'red']]\n",
      "Tableau 2: [['3', '♥', 'red']]\n",
      "Tableau 3: [['12', '♥', 'red'], ['11', '♠', 'black']]\n",
      "Tableau 4: [['3', '♣', 'black'], ['2', '♦', 'red']]\n",
      "Tableau 5: [['11', '♣', 'black']]\n",
      "Tableau 6: [['7', '♣', 'black'], ['6', '♥', 'red']]\n",
      "Tableau 7: [['13', '♥', 'red'], ['12', '♠', 'black']]\n",
      "--------------------------------------------------------------------------------------\n"
     ]
    },
    {
     "name": "stdin",
     "output_type": "stream",
     "text": [
      "\n",
      "What is your next move?\n",
      "    Press '1': to move cards among tableaus\n",
      "    Press '2': to move cards from tableaus to foundations\n",
      "    Press '3': to open card in stock pile\n",
      "    Press '4': to move card from stock pile to tableaus\n",
      "    Press '5': to start new game\n",
      "     4\n",
      "Which tableau do you want to move the card to? Choose an integer between 1 and 7, : 7\n"
     ]
    },
    {
     "name": "stdout",
     "output_type": "stream",
     "text": [
      "--------------------------------------------------------------------------------------\n",
      "You have the following visible cards :\n",
      " \n",
      "Stock pile : ['8', '♥', 'red']\n",
      "Foundation 1: []\n",
      "Foundation 2: []\n",
      "Foundation 3: []\n",
      "Foundation 4: []\n",
      "\n",
      "\n",
      "Tableau 1: [['11', '♦', 'red']]\n",
      "Tableau 2: [['3', '♥', 'red']]\n",
      "Tableau 3: [['12', '♥', 'red'], ['11', '♠', 'black']]\n",
      "Tableau 4: [['3', '♣', 'black'], ['2', '♦', 'red']]\n",
      "Tableau 5: [['11', '♣', 'black']]\n",
      "Tableau 6: [['7', '♣', 'black'], ['6', '♥', 'red']]\n",
      "Tableau 7: [['13', '♥', 'red'], ['12', '♠', 'black'], ['11', '♥', 'red']]\n",
      "--------------------------------------------------------------------------------------\n"
     ]
    },
    {
     "name": "stdin",
     "output_type": "stream",
     "text": [
      "\n",
      "What is your next move?\n",
      "    Press '1': to move cards among tableaus\n",
      "    Press '2': to move cards from tableaus to foundations\n",
      "    Press '3': to open card in stock pile\n",
      "    Press '4': to move card from stock pile to tableaus\n",
      "    Press '5': to start new game\n",
      "     3\n"
     ]
    },
    {
     "name": "stdout",
     "output_type": "stream",
     "text": [
      "--------------------------------------------------------------------------------------\n",
      "You have the following visible cards :\n",
      " \n",
      "Stock pile : ['12', '♣', 'black']\n",
      "Foundation 1: []\n",
      "Foundation 2: []\n",
      "Foundation 3: []\n",
      "Foundation 4: []\n",
      "\n",
      "\n",
      "Tableau 1: [['11', '♦', 'red']]\n",
      "Tableau 2: [['3', '♥', 'red']]\n",
      "Tableau 3: [['12', '♥', 'red'], ['11', '♠', 'black']]\n",
      "Tableau 4: [['3', '♣', 'black'], ['2', '♦', 'red']]\n",
      "Tableau 5: [['11', '♣', 'black']]\n",
      "Tableau 6: [['7', '♣', 'black'], ['6', '♥', 'red']]\n",
      "Tableau 7: [['13', '♥', 'red'], ['12', '♠', 'black'], ['11', '♥', 'red']]\n",
      "--------------------------------------------------------------------------------------\n"
     ]
    },
    {
     "name": "stdin",
     "output_type": "stream",
     "text": [
      "\n",
      "What is your next move?\n",
      "    Press '1': to move cards among tableaus\n",
      "    Press '2': to move cards from tableaus to foundations\n",
      "    Press '3': to open card in stock pile\n",
      "    Press '4': to move card from stock pile to tableaus\n",
      "    Press '5': to start new game\n",
      "     3\n"
     ]
    },
    {
     "name": "stdout",
     "output_type": "stream",
     "text": [
      "--------------------------------------------------------------------------------------\n",
      "You have the following visible cards :\n",
      " \n",
      "Stock pile : ['5', '♠', 'black']\n",
      "Foundation 1: []\n",
      "Foundation 2: []\n",
      "Foundation 3: []\n",
      "Foundation 4: []\n",
      "\n",
      "\n",
      "Tableau 1: [['11', '♦', 'red']]\n",
      "Tableau 2: [['3', '♥', 'red']]\n",
      "Tableau 3: [['12', '♥', 'red'], ['11', '♠', 'black']]\n",
      "Tableau 4: [['3', '♣', 'black'], ['2', '♦', 'red']]\n",
      "Tableau 5: [['11', '♣', 'black']]\n",
      "Tableau 6: [['7', '♣', 'black'], ['6', '♥', 'red']]\n",
      "Tableau 7: [['13', '♥', 'red'], ['12', '♠', 'black'], ['11', '♥', 'red']]\n",
      "--------------------------------------------------------------------------------------\n"
     ]
    },
    {
     "name": "stdin",
     "output_type": "stream",
     "text": [
      "\n",
      "What is your next move?\n",
      "    Press '1': to move cards among tableaus\n",
      "    Press '2': to move cards from tableaus to foundations\n",
      "    Press '3': to open card in stock pile\n",
      "    Press '4': to move card from stock pile to tableaus\n",
      "    Press '5': to start new game\n",
      "     4\n",
      "Which tableau do you want to move the card to? Choose an integer between 1 and 7, : 6\n"
     ]
    },
    {
     "name": "stdout",
     "output_type": "stream",
     "text": [
      "--------------------------------------------------------------------------------------\n",
      "You have the following visible cards :\n",
      " \n",
      "Stock pile : ['4', '♥', 'red']\n",
      "Foundation 1: []\n",
      "Foundation 2: []\n",
      "Foundation 3: []\n",
      "Foundation 4: []\n",
      "\n",
      "\n",
      "Tableau 1: [['11', '♦', 'red']]\n",
      "Tableau 2: [['3', '♥', 'red']]\n",
      "Tableau 3: [['12', '♥', 'red'], ['11', '♠', 'black']]\n",
      "Tableau 4: [['3', '♣', 'black'], ['2', '♦', 'red']]\n",
      "Tableau 5: [['11', '♣', 'black']]\n",
      "Tableau 6: [['7', '♣', 'black'], ['6', '♥', 'red'], ['5', '♠', 'black']]\n",
      "Tableau 7: [['13', '♥', 'red'], ['12', '♠', 'black'], ['11', '♥', 'red']]\n",
      "--------------------------------------------------------------------------------------\n"
     ]
    },
    {
     "name": "stdin",
     "output_type": "stream",
     "text": [
      "\n",
      "What is your next move?\n",
      "    Press '1': to move cards among tableaus\n",
      "    Press '2': to move cards from tableaus to foundations\n",
      "    Press '3': to open card in stock pile\n",
      "    Press '4': to move card from stock pile to tableaus\n",
      "    Press '5': to start new game\n",
      "     4\n",
      "Which tableau do you want to move the card to? Choose an integer between 1 and 7, : 6\n"
     ]
    },
    {
     "name": "stdout",
     "output_type": "stream",
     "text": [
      "--------------------------------------------------------------------------------------\n",
      "You have the following visible cards :\n",
      " \n",
      "Stock pile : ['6', '♠', 'black']\n",
      "Foundation 1: []\n",
      "Foundation 2: []\n",
      "Foundation 3: []\n",
      "Foundation 4: []\n",
      "\n",
      "\n",
      "Tableau 1: [['11', '♦', 'red']]\n",
      "Tableau 2: [['3', '♥', 'red']]\n",
      "Tableau 3: [['12', '♥', 'red'], ['11', '♠', 'black']]\n",
      "Tableau 4: [['3', '♣', 'black'], ['2', '♦', 'red']]\n",
      "Tableau 5: [['11', '♣', 'black']]\n",
      "Tableau 6: [['7', '♣', 'black'], ['6', '♥', 'red'], ['5', '♠', 'black'], ['4', '♥', 'red']]\n",
      "Tableau 7: [['13', '♥', 'red'], ['12', '♠', 'black'], ['11', '♥', 'red']]\n",
      "--------------------------------------------------------------------------------------\n"
     ]
    },
    {
     "name": "stdin",
     "output_type": "stream",
     "text": [
      "\n",
      "What is your next move?\n",
      "    Press '1': to move cards among tableaus\n",
      "    Press '2': to move cards from tableaus to foundations\n",
      "    Press '3': to open card in stock pile\n",
      "    Press '4': to move card from stock pile to tableaus\n",
      "    Press '5': to start new game\n",
      "     1\n",
      "Which tableau do you want to move a card from? Choose an integer between 1 and 7:  4\n",
      "Which tableau do you want to move the card to? Choose an integer between 1 and 7, except for 4:  6\n"
     ]
    },
    {
     "name": "stdout",
     "output_type": "stream",
     "text": [
      "--------------------------------------------------------------------------------------\n",
      "You have the following visible cards :\n",
      " \n",
      "Stock pile : ['6', '♠', 'black']\n",
      "Foundation 1: []\n",
      "Foundation 2: []\n",
      "Foundation 3: []\n",
      "Foundation 4: []\n",
      "\n",
      "\n",
      "Tableau 1: [['11', '♦', 'red']]\n",
      "Tableau 2: [['3', '♥', 'red']]\n",
      "Tableau 3: [['12', '♥', 'red'], ['11', '♠', 'black']]\n",
      "Tableau 4: [['10', '♠', 'black']]\n",
      "Tableau 5: [['11', '♣', 'black']]\n",
      "Tableau 6: [['7', '♣', 'black'], ['6', '♥', 'red'], ['5', '♠', 'black'], ['4', '♥', 'red'], ['3', '♣', 'black'], ['2', '♦', 'red']]\n",
      "Tableau 7: [['13', '♥', 'red'], ['12', '♠', 'black'], ['11', '♥', 'red']]\n",
      "--------------------------------------------------------------------------------------\n"
     ]
    },
    {
     "name": "stdin",
     "output_type": "stream",
     "text": [
      "\n",
      "What is your next move?\n",
      "    Press '1': to move cards among tableaus\n",
      "    Press '2': to move cards from tableaus to foundations\n",
      "    Press '3': to open card in stock pile\n",
      "    Press '4': to move card from stock pile to tableaus\n",
      "    Press '5': to start new game\n",
      "     1\n",
      "Which tableau do you want to move a card from? Choose an integer between 1 and 7:  4\n",
      "Which tableau do you want to move the card to? Choose an integer between 1 and 7, except for 4:  7\n"
     ]
    },
    {
     "name": "stdout",
     "output_type": "stream",
     "text": [
      "--------------------------------------------------------------------------------------\n",
      "You have the following visible cards :\n",
      " \n",
      "Stock pile : ['6', '♠', 'black']\n",
      "Foundation 1: []\n",
      "Foundation 2: []\n",
      "Foundation 3: []\n",
      "Foundation 4: []\n",
      "\n",
      "\n",
      "Tableau 1: [['11', '♦', 'red']]\n",
      "Tableau 2: [['3', '♥', 'red']]\n",
      "Tableau 3: [['12', '♥', 'red'], ['11', '♠', 'black']]\n",
      "Tableau 4: [['5', '♣', 'black']]\n",
      "Tableau 5: [['11', '♣', 'black']]\n",
      "Tableau 6: [['7', '♣', 'black'], ['6', '♥', 'red'], ['5', '♠', 'black'], ['4', '♥', 'red'], ['3', '♣', 'black'], ['2', '♦', 'red']]\n",
      "Tableau 7: [['13', '♥', 'red'], ['12', '♠', 'black'], ['11', '♥', 'red'], ['10', '♠', 'black']]\n",
      "--------------------------------------------------------------------------------------\n"
     ]
    },
    {
     "name": "stdin",
     "output_type": "stream",
     "text": [
      "\n",
      "What is your next move?\n",
      "    Press '1': to move cards among tableaus\n",
      "    Press '2': to move cards from tableaus to foundations\n",
      "    Press '3': to open card in stock pile\n",
      "    Press '4': to move card from stock pile to tableaus\n",
      "    Press '5': to start new game\n",
      "     3\n"
     ]
    },
    {
     "name": "stdout",
     "output_type": "stream",
     "text": [
      "--------------------------------------------------------------------------------------\n",
      "You have the following visible cards :\n",
      " \n",
      "Stock pile : ['8', '♦', 'red']\n",
      "Foundation 1: []\n",
      "Foundation 2: []\n",
      "Foundation 3: []\n",
      "Foundation 4: []\n",
      "\n",
      "\n",
      "Tableau 1: [['11', '♦', 'red']]\n",
      "Tableau 2: [['3', '♥', 'red']]\n",
      "Tableau 3: [['12', '♥', 'red'], ['11', '♠', 'black']]\n",
      "Tableau 4: [['5', '♣', 'black']]\n",
      "Tableau 5: [['11', '♣', 'black']]\n",
      "Tableau 6: [['7', '♣', 'black'], ['6', '♥', 'red'], ['5', '♠', 'black'], ['4', '♥', 'red'], ['3', '♣', 'black'], ['2', '♦', 'red']]\n",
      "Tableau 7: [['13', '♥', 'red'], ['12', '♠', 'black'], ['11', '♥', 'red'], ['10', '♠', 'black']]\n",
      "--------------------------------------------------------------------------------------\n"
     ]
    },
    {
     "name": "stdin",
     "output_type": "stream",
     "text": [
      "\n",
      "What is your next move?\n",
      "    Press '1': to move cards among tableaus\n",
      "    Press '2': to move cards from tableaus to foundations\n",
      "    Press '3': to open card in stock pile\n",
      "    Press '4': to move card from stock pile to tableaus\n",
      "    Press '5': to start new game\n",
      "     3\n"
     ]
    },
    {
     "name": "stdout",
     "output_type": "stream",
     "text": [
      "--------------------------------------------------------------------------------------\n",
      "You have the following visible cards :\n",
      " \n",
      "Stock pile : ['3', '♦', 'red']\n",
      "Foundation 1: []\n",
      "Foundation 2: []\n",
      "Foundation 3: []\n",
      "Foundation 4: []\n",
      "\n",
      "\n",
      "Tableau 1: [['11', '♦', 'red']]\n",
      "Tableau 2: [['3', '♥', 'red']]\n",
      "Tableau 3: [['12', '♥', 'red'], ['11', '♠', 'black']]\n",
      "Tableau 4: [['5', '♣', 'black']]\n",
      "Tableau 5: [['11', '♣', 'black']]\n",
      "Tableau 6: [['7', '♣', 'black'], ['6', '♥', 'red'], ['5', '♠', 'black'], ['4', '♥', 'red'], ['3', '♣', 'black'], ['2', '♦', 'red']]\n",
      "Tableau 7: [['13', '♥', 'red'], ['12', '♠', 'black'], ['11', '♥', 'red'], ['10', '♠', 'black']]\n",
      "--------------------------------------------------------------------------------------\n"
     ]
    },
    {
     "name": "stdin",
     "output_type": "stream",
     "text": [
      "\n",
      "What is your next move?\n",
      "    Press '1': to move cards among tableaus\n",
      "    Press '2': to move cards from tableaus to foundations\n",
      "    Press '3': to open card in stock pile\n",
      "    Press '4': to move card from stock pile to tableaus\n",
      "    Press '5': to start new game\n",
      "     3\n"
     ]
    },
    {
     "name": "stdout",
     "output_type": "stream",
     "text": [
      "--------------------------------------------------------------------------------------\n",
      "You have the following visible cards :\n",
      " \n",
      "Stock pile : ['1', '♠', 'black']\n",
      "Foundation 1: []\n",
      "Foundation 2: []\n",
      "Foundation 3: []\n",
      "Foundation 4: []\n",
      "\n",
      "\n",
      "Tableau 1: [['11', '♦', 'red']]\n",
      "Tableau 2: [['3', '♥', 'red']]\n",
      "Tableau 3: [['12', '♥', 'red'], ['11', '♠', 'black']]\n",
      "Tableau 4: [['5', '♣', 'black']]\n",
      "Tableau 5: [['11', '♣', 'black']]\n",
      "Tableau 6: [['7', '♣', 'black'], ['6', '♥', 'red'], ['5', '♠', 'black'], ['4', '♥', 'red'], ['3', '♣', 'black'], ['2', '♦', 'red']]\n",
      "Tableau 7: [['13', '♥', 'red'], ['12', '♠', 'black'], ['11', '♥', 'red'], ['10', '♠', 'black']]\n",
      "--------------------------------------------------------------------------------------\n"
     ]
    },
    {
     "name": "stdin",
     "output_type": "stream",
     "text": [
      "\n",
      "What is your next move?\n",
      "    Press '1': to move cards among tableaus\n",
      "    Press '2': to move cards from tableaus to foundations\n",
      "    Press '3': to open card in stock pile\n",
      "    Press '4': to move card from stock pile to tableaus\n",
      "    Press '5': to start new game\n",
      "     4\n",
      "Which tableau do you want to move the card to? Choose an integer between 1 and 7, : 6\n"
     ]
    },
    {
     "name": "stdout",
     "output_type": "stream",
     "text": [
      "--------------------------------------------------------------------------------------\n",
      "You have the following visible cards :\n",
      " \n",
      "Stock pile : ['8', '♠', 'black']\n",
      "Foundation 1: []\n",
      "Foundation 2: []\n",
      "Foundation 3: []\n",
      "Foundation 4: []\n",
      "\n",
      "\n",
      "Tableau 1: [['11', '♦', 'red']]\n",
      "Tableau 2: [['3', '♥', 'red']]\n",
      "Tableau 3: [['12', '♥', 'red'], ['11', '♠', 'black']]\n",
      "Tableau 4: [['5', '♣', 'black']]\n",
      "Tableau 5: [['11', '♣', 'black']]\n",
      "Tableau 6: [['7', '♣', 'black'], ['6', '♥', 'red'], ['5', '♠', 'black'], ['4', '♥', 'red'], ['3', '♣', 'black'], ['2', '♦', 'red'], ['1', '♠', 'black']]\n",
      "Tableau 7: [['13', '♥', 'red'], ['12', '♠', 'black'], ['11', '♥', 'red'], ['10', '♠', 'black']]\n",
      "--------------------------------------------------------------------------------------\n"
     ]
    },
    {
     "name": "stdin",
     "output_type": "stream",
     "text": [
      "\n",
      "What is your next move?\n",
      "    Press '1': to move cards among tableaus\n",
      "    Press '2': to move cards from tableaus to foundations\n",
      "    Press '3': to open card in stock pile\n",
      "    Press '4': to move card from stock pile to tableaus\n",
      "    Press '5': to start new game\n",
      "     2\n",
      "Which tableau do you want to move a card from? Choose an integer between 1 and 7:  6\n",
      "\n",
      "Which foundation do you want to move the card to? Choose an integer between 1 and 4: \n",
      "    1 for ♥; 2 for ♦; 3 for ♠; 4 for ♣\n",
      "     3\n"
     ]
    },
    {
     "name": "stdout",
     "output_type": "stream",
     "text": [
      "1\n",
      "--------------------------------------------------------------------------------------\n",
      "You have the following visible cards :\n",
      " \n",
      "Stock pile : ['8', '♠', 'black']\n",
      "Foundation 1: []\n",
      "Foundation 2: []\n",
      "Foundation 3: ['1', '♠', 'black']\n",
      "Foundation 4: []\n",
      "\n",
      "\n",
      "Tableau 1: [['11', '♦', 'red']]\n",
      "Tableau 2: [['3', '♥', 'red']]\n",
      "Tableau 3: [['12', '♥', 'red'], ['11', '♠', 'black']]\n",
      "Tableau 4: [['5', '♣', 'black']]\n",
      "Tableau 5: [['11', '♣', 'black']]\n",
      "Tableau 6: [['7', '♣', 'black'], ['6', '♥', 'red'], ['5', '♠', 'black'], ['4', '♥', 'red'], ['3', '♣', 'black'], ['2', '♦', 'red']]\n",
      "Tableau 7: [['13', '♥', 'red'], ['12', '♠', 'black'], ['11', '♥', 'red'], ['10', '♠', 'black']]\n",
      "--------------------------------------------------------------------------------------\n"
     ]
    },
    {
     "name": "stdin",
     "output_type": "stream",
     "text": [
      "\n",
      "What is your next move?\n",
      "    Press '1': to move cards among tableaus\n",
      "    Press '2': to move cards from tableaus to foundations\n",
      "    Press '3': to open card in stock pile\n",
      "    Press '4': to move card from stock pile to tableaus\n",
      "    Press '5': to start new game\n",
      "     3\n"
     ]
    },
    {
     "name": "stdout",
     "output_type": "stream",
     "text": [
      "--------------------------------------------------------------------------------------\n",
      "You have the following visible cards :\n",
      " \n",
      "Stock pile : ['2', '♥', 'red']\n",
      "Foundation 1: []\n",
      "Foundation 2: []\n",
      "Foundation 3: ['1', '♠', 'black']\n",
      "Foundation 4: []\n",
      "\n",
      "\n",
      "Tableau 1: [['11', '♦', 'red']]\n",
      "Tableau 2: [['3', '♥', 'red']]\n",
      "Tableau 3: [['12', '♥', 'red'], ['11', '♠', 'black']]\n",
      "Tableau 4: [['5', '♣', 'black']]\n",
      "Tableau 5: [['11', '♣', 'black']]\n",
      "Tableau 6: [['7', '♣', 'black'], ['6', '♥', 'red'], ['5', '♠', 'black'], ['4', '♥', 'red'], ['3', '♣', 'black'], ['2', '♦', 'red']]\n",
      "Tableau 7: [['13', '♥', 'red'], ['12', '♠', 'black'], ['11', '♥', 'red'], ['10', '♠', 'black']]\n",
      "--------------------------------------------------------------------------------------\n"
     ]
    },
    {
     "name": "stdin",
     "output_type": "stream",
     "text": [
      "\n",
      "What is your next move?\n",
      "    Press '1': to move cards among tableaus\n",
      "    Press '2': to move cards from tableaus to foundations\n",
      "    Press '3': to open card in stock pile\n",
      "    Press '4': to move card from stock pile to tableaus\n",
      "    Press '5': to start new game\n",
      "     3\n"
     ]
    },
    {
     "name": "stdout",
     "output_type": "stream",
     "text": [
      "--------------------------------------------------------------------------------------\n",
      "You have the following visible cards :\n",
      " \n",
      "Stock pile : ['3', '♠', 'black']\n",
      "Foundation 1: []\n",
      "Foundation 2: []\n",
      "Foundation 3: ['1', '♠', 'black']\n",
      "Foundation 4: []\n",
      "\n",
      "\n",
      "Tableau 1: [['11', '♦', 'red']]\n",
      "Tableau 2: [['3', '♥', 'red']]\n",
      "Tableau 3: [['12', '♥', 'red'], ['11', '♠', 'black']]\n",
      "Tableau 4: [['5', '♣', 'black']]\n",
      "Tableau 5: [['11', '♣', 'black']]\n",
      "Tableau 6: [['7', '♣', 'black'], ['6', '♥', 'red'], ['5', '♠', 'black'], ['4', '♥', 'red'], ['3', '♣', 'black'], ['2', '♦', 'red']]\n",
      "Tableau 7: [['13', '♥', 'red'], ['12', '♠', 'black'], ['11', '♥', 'red'], ['10', '♠', 'black']]\n",
      "--------------------------------------------------------------------------------------\n"
     ]
    },
    {
     "name": "stdin",
     "output_type": "stream",
     "text": [
      "\n",
      "What is your next move?\n",
      "    Press '1': to move cards among tableaus\n",
      "    Press '2': to move cards from tableaus to foundations\n",
      "    Press '3': to open card in stock pile\n",
      "    Press '4': to move card from stock pile to tableaus\n",
      "    Press '5': to start new game\n",
      "     3\n"
     ]
    },
    {
     "name": "stdout",
     "output_type": "stream",
     "text": [
      "--------------------------------------------------------------------------------------\n",
      "You have the following visible cards :\n",
      " \n",
      "Stock pile : ['4', '♠', 'black']\n",
      "Foundation 1: []\n",
      "Foundation 2: []\n",
      "Foundation 3: ['1', '♠', 'black']\n",
      "Foundation 4: []\n",
      "\n",
      "\n",
      "Tableau 1: [['11', '♦', 'red']]\n",
      "Tableau 2: [['3', '♥', 'red']]\n",
      "Tableau 3: [['12', '♥', 'red'], ['11', '♠', 'black']]\n",
      "Tableau 4: [['5', '♣', 'black']]\n",
      "Tableau 5: [['11', '♣', 'black']]\n",
      "Tableau 6: [['7', '♣', 'black'], ['6', '♥', 'red'], ['5', '♠', 'black'], ['4', '♥', 'red'], ['3', '♣', 'black'], ['2', '♦', 'red']]\n",
      "Tableau 7: [['13', '♥', 'red'], ['12', '♠', 'black'], ['11', '♥', 'red'], ['10', '♠', 'black']]\n",
      "--------------------------------------------------------------------------------------\n"
     ]
    },
    {
     "name": "stdin",
     "output_type": "stream",
     "text": [
      "\n",
      "What is your next move?\n",
      "    Press '1': to move cards among tableaus\n",
      "    Press '2': to move cards from tableaus to foundations\n",
      "    Press '3': to open card in stock pile\n",
      "    Press '4': to move card from stock pile to tableaus\n",
      "    Press '5': to start new game\n",
      "     3\n"
     ]
    },
    {
     "name": "stdout",
     "output_type": "stream",
     "text": [
      "--------------------------------------------------------------------------------------\n",
      "You have the following visible cards :\n",
      " \n",
      "Stock pile : ['5', '♥', 'red']\n",
      "Foundation 1: []\n",
      "Foundation 2: []\n",
      "Foundation 3: ['1', '♠', 'black']\n",
      "Foundation 4: []\n",
      "\n",
      "\n",
      "Tableau 1: [['11', '♦', 'red']]\n",
      "Tableau 2: [['3', '♥', 'red']]\n",
      "Tableau 3: [['12', '♥', 'red'], ['11', '♠', 'black']]\n",
      "Tableau 4: [['5', '♣', 'black']]\n",
      "Tableau 5: [['11', '♣', 'black']]\n",
      "Tableau 6: [['7', '♣', 'black'], ['6', '♥', 'red'], ['5', '♠', 'black'], ['4', '♥', 'red'], ['3', '♣', 'black'], ['2', '♦', 'red']]\n",
      "Tableau 7: [['13', '♥', 'red'], ['12', '♠', 'black'], ['11', '♥', 'red'], ['10', '♠', 'black']]\n",
      "--------------------------------------------------------------------------------------\n"
     ]
    },
    {
     "name": "stdin",
     "output_type": "stream",
     "text": [
      "\n",
      "What is your next move?\n",
      "    Press '1': to move cards among tableaus\n",
      "    Press '2': to move cards from tableaus to foundations\n",
      "    Press '3': to open card in stock pile\n",
      "    Press '4': to move card from stock pile to tableaus\n",
      "    Press '5': to start new game\n",
      "     3\n"
     ]
    },
    {
     "name": "stdout",
     "output_type": "stream",
     "text": [
      "--------------------------------------------------------------------------------------\n",
      "You have the following visible cards :\n",
      " \n",
      "Stock pile : ['7', '♥', 'red']\n",
      "Foundation 1: []\n",
      "Foundation 2: []\n",
      "Foundation 3: ['1', '♠', 'black']\n",
      "Foundation 4: []\n",
      "\n",
      "\n",
      "Tableau 1: [['11', '♦', 'red']]\n",
      "Tableau 2: [['3', '♥', 'red']]\n",
      "Tableau 3: [['12', '♥', 'red'], ['11', '♠', 'black']]\n",
      "Tableau 4: [['5', '♣', 'black']]\n",
      "Tableau 5: [['11', '♣', 'black']]\n",
      "Tableau 6: [['7', '♣', 'black'], ['6', '♥', 'red'], ['5', '♠', 'black'], ['4', '♥', 'red'], ['3', '♣', 'black'], ['2', '♦', 'red']]\n",
      "Tableau 7: [['13', '♥', 'red'], ['12', '♠', 'black'], ['11', '♥', 'red'], ['10', '♠', 'black']]\n",
      "--------------------------------------------------------------------------------------\n"
     ]
    },
    {
     "name": "stdin",
     "output_type": "stream",
     "text": [
      "\n",
      "What is your next move?\n",
      "    Press '1': to move cards among tableaus\n",
      "    Press '2': to move cards from tableaus to foundations\n",
      "    Press '3': to open card in stock pile\n",
      "    Press '4': to move card from stock pile to tableaus\n",
      "    Press '5': to start new game\n",
      "     3\n"
     ]
    },
    {
     "name": "stdout",
     "output_type": "stream",
     "text": [
      "--------------------------------------------------------------------------------------\n",
      "You have the following visible cards :\n",
      " \n",
      "Stock pile : ['13', '♣', 'black']\n",
      "Foundation 1: []\n",
      "Foundation 2: []\n",
      "Foundation 3: ['1', '♠', 'black']\n",
      "Foundation 4: []\n",
      "\n",
      "\n",
      "Tableau 1: [['11', '♦', 'red']]\n",
      "Tableau 2: [['3', '♥', 'red']]\n",
      "Tableau 3: [['12', '♥', 'red'], ['11', '♠', 'black']]\n",
      "Tableau 4: [['5', '♣', 'black']]\n",
      "Tableau 5: [['11', '♣', 'black']]\n",
      "Tableau 6: [['7', '♣', 'black'], ['6', '♥', 'red'], ['5', '♠', 'black'], ['4', '♥', 'red'], ['3', '♣', 'black'], ['2', '♦', 'red']]\n",
      "Tableau 7: [['13', '♥', 'red'], ['12', '♠', 'black'], ['11', '♥', 'red'], ['10', '♠', 'black']]\n",
      "--------------------------------------------------------------------------------------\n"
     ]
    },
    {
     "name": "stdin",
     "output_type": "stream",
     "text": [
      "\n",
      "What is your next move?\n",
      "    Press '1': to move cards among tableaus\n",
      "    Press '2': to move cards from tableaus to foundations\n",
      "    Press '3': to open card in stock pile\n",
      "    Press '4': to move card from stock pile to tableaus\n",
      "    Press '5': to start new game\n",
      "     3\n"
     ]
    },
    {
     "name": "stdout",
     "output_type": "stream",
     "text": [
      "--------------------------------------------------------------------------------------\n",
      "You have the following visible cards :\n",
      " \n",
      "Stock pile : ['8', '♣', 'black']\n",
      "Foundation 1: []\n",
      "Foundation 2: []\n",
      "Foundation 3: ['1', '♠', 'black']\n",
      "Foundation 4: []\n",
      "\n",
      "\n",
      "Tableau 1: [['11', '♦', 'red']]\n",
      "Tableau 2: [['3', '♥', 'red']]\n",
      "Tableau 3: [['12', '♥', 'red'], ['11', '♠', 'black']]\n",
      "Tableau 4: [['5', '♣', 'black']]\n",
      "Tableau 5: [['11', '♣', 'black']]\n",
      "Tableau 6: [['7', '♣', 'black'], ['6', '♥', 'red'], ['5', '♠', 'black'], ['4', '♥', 'red'], ['3', '♣', 'black'], ['2', '♦', 'red']]\n",
      "Tableau 7: [['13', '♥', 'red'], ['12', '♠', 'black'], ['11', '♥', 'red'], ['10', '♠', 'black']]\n",
      "--------------------------------------------------------------------------------------\n"
     ]
    },
    {
     "name": "stdin",
     "output_type": "stream",
     "text": [
      "\n",
      "What is your next move?\n",
      "    Press '1': to move cards among tableaus\n",
      "    Press '2': to move cards from tableaus to foundations\n",
      "    Press '3': to open card in stock pile\n",
      "    Press '4': to move card from stock pile to tableaus\n",
      "    Press '5': to start new game\n",
      "     3\n"
     ]
    },
    {
     "name": "stdout",
     "output_type": "stream",
     "text": [
      "--------------------------------------------------------------------------------------\n",
      "You have the following visible cards :\n",
      " \n",
      "Stock pile : ['4', '♣', 'black']\n",
      "Foundation 1: []\n",
      "Foundation 2: []\n",
      "Foundation 3: ['1', '♠', 'black']\n",
      "Foundation 4: []\n",
      "\n",
      "\n",
      "Tableau 1: [['11', '♦', 'red']]\n",
      "Tableau 2: [['3', '♥', 'red']]\n",
      "Tableau 3: [['12', '♥', 'red'], ['11', '♠', 'black']]\n",
      "Tableau 4: [['5', '♣', 'black']]\n",
      "Tableau 5: [['11', '♣', 'black']]\n",
      "Tableau 6: [['7', '♣', 'black'], ['6', '♥', 'red'], ['5', '♠', 'black'], ['4', '♥', 'red'], ['3', '♣', 'black'], ['2', '♦', 'red']]\n",
      "Tableau 7: [['13', '♥', 'red'], ['12', '♠', 'black'], ['11', '♥', 'red'], ['10', '♠', 'black']]\n",
      "--------------------------------------------------------------------------------------\n"
     ]
    },
    {
     "name": "stdin",
     "output_type": "stream",
     "text": [
      "\n",
      "What is your next move?\n",
      "    Press '1': to move cards among tableaus\n",
      "    Press '2': to move cards from tableaus to foundations\n",
      "    Press '3': to open card in stock pile\n",
      "    Press '4': to move card from stock pile to tableaus\n",
      "    Press '5': to start new game\n",
      "     3\n"
     ]
    },
    {
     "name": "stdout",
     "output_type": "stream",
     "text": [
      "--------------------------------------------------------------------------------------\n",
      "You have the following visible cards :\n",
      " \n",
      "Stock pile : ['1', '♦', 'red']\n",
      "Foundation 1: []\n",
      "Foundation 2: []\n",
      "Foundation 3: ['1', '♠', 'black']\n",
      "Foundation 4: []\n",
      "\n",
      "\n",
      "Tableau 1: [['11', '♦', 'red']]\n",
      "Tableau 2: [['3', '♥', 'red']]\n",
      "Tableau 3: [['12', '♥', 'red'], ['11', '♠', 'black']]\n",
      "Tableau 4: [['5', '♣', 'black']]\n",
      "Tableau 5: [['11', '♣', 'black']]\n",
      "Tableau 6: [['7', '♣', 'black'], ['6', '♥', 'red'], ['5', '♠', 'black'], ['4', '♥', 'red'], ['3', '♣', 'black'], ['2', '♦', 'red']]\n",
      "Tableau 7: [['13', '♥', 'red'], ['12', '♠', 'black'], ['11', '♥', 'red'], ['10', '♠', 'black']]\n",
      "--------------------------------------------------------------------------------------\n"
     ]
    },
    {
     "name": "stdin",
     "output_type": "stream",
     "text": [
      "\n",
      "What is your next move?\n",
      "    Press '1': to move cards among tableaus\n",
      "    Press '2': to move cards from tableaus to foundations\n",
      "    Press '3': to open card in stock pile\n",
      "    Press '4': to move card from stock pile to tableaus\n",
      "    Press '5': to start new game\n",
      "     3\n"
     ]
    },
    {
     "name": "stdout",
     "output_type": "stream",
     "text": [
      "--------------------------------------------------------------------------------------\n",
      "You have the following visible cards :\n",
      " \n",
      "Stock pile : ['13', '♦', 'red']\n",
      "Foundation 1: []\n",
      "Foundation 2: []\n",
      "Foundation 3: ['1', '♠', 'black']\n",
      "Foundation 4: []\n",
      "\n",
      "\n",
      "Tableau 1: [['11', '♦', 'red']]\n",
      "Tableau 2: [['3', '♥', 'red']]\n",
      "Tableau 3: [['12', '♥', 'red'], ['11', '♠', 'black']]\n",
      "Tableau 4: [['5', '♣', 'black']]\n",
      "Tableau 5: [['11', '♣', 'black']]\n",
      "Tableau 6: [['7', '♣', 'black'], ['6', '♥', 'red'], ['5', '♠', 'black'], ['4', '♥', 'red'], ['3', '♣', 'black'], ['2', '♦', 'red']]\n",
      "Tableau 7: [['13', '♥', 'red'], ['12', '♠', 'black'], ['11', '♥', 'red'], ['10', '♠', 'black']]\n",
      "--------------------------------------------------------------------------------------\n"
     ]
    },
    {
     "name": "stdin",
     "output_type": "stream",
     "text": [
      "\n",
      "What is your next move?\n",
      "    Press '1': to move cards among tableaus\n",
      "    Press '2': to move cards from tableaus to foundations\n",
      "    Press '3': to open card in stock pile\n",
      "    Press '4': to move card from stock pile to tableaus\n",
      "    Press '5': to start new game\n",
      "     3\n"
     ]
    },
    {
     "name": "stdout",
     "output_type": "stream",
     "text": [
      "--------------------------------------------------------------------------------------\n",
      "You have the following visible cards :\n",
      " \n",
      "Stock pile : ['5', '♦', 'red']\n",
      "Foundation 1: []\n",
      "Foundation 2: []\n",
      "Foundation 3: ['1', '♠', 'black']\n",
      "Foundation 4: []\n",
      "\n",
      "\n",
      "Tableau 1: [['11', '♦', 'red']]\n",
      "Tableau 2: [['3', '♥', 'red']]\n",
      "Tableau 3: [['12', '♥', 'red'], ['11', '♠', 'black']]\n",
      "Tableau 4: [['5', '♣', 'black']]\n",
      "Tableau 5: [['11', '♣', 'black']]\n",
      "Tableau 6: [['7', '♣', 'black'], ['6', '♥', 'red'], ['5', '♠', 'black'], ['4', '♥', 'red'], ['3', '♣', 'black'], ['2', '♦', 'red']]\n",
      "Tableau 7: [['13', '♥', 'red'], ['12', '♠', 'black'], ['11', '♥', 'red'], ['10', '♠', 'black']]\n",
      "--------------------------------------------------------------------------------------\n"
     ]
    },
    {
     "name": "stdin",
     "output_type": "stream",
     "text": [
      "\n",
      "What is your next move?\n",
      "    Press '1': to move cards among tableaus\n",
      "    Press '2': to move cards from tableaus to foundations\n",
      "    Press '3': to open card in stock pile\n",
      "    Press '4': to move card from stock pile to tableaus\n",
      "    Press '5': to start new game\n",
      "     3\n"
     ]
    },
    {
     "name": "stdout",
     "output_type": "stream",
     "text": [
      "--------------------------------------------------------------------------------------\n",
      "You have the following visible cards :\n",
      " \n",
      "Stock pile : ['7', '♦', 'red']\n",
      "Foundation 1: []\n",
      "Foundation 2: []\n",
      "Foundation 3: ['1', '♠', 'black']\n",
      "Foundation 4: []\n",
      "\n",
      "\n",
      "Tableau 1: [['11', '♦', 'red']]\n",
      "Tableau 2: [['3', '♥', 'red']]\n",
      "Tableau 3: [['12', '♥', 'red'], ['11', '♠', 'black']]\n",
      "Tableau 4: [['5', '♣', 'black']]\n",
      "Tableau 5: [['11', '♣', 'black']]\n",
      "Tableau 6: [['7', '♣', 'black'], ['6', '♥', 'red'], ['5', '♠', 'black'], ['4', '♥', 'red'], ['3', '♣', 'black'], ['2', '♦', 'red']]\n",
      "Tableau 7: [['13', '♥', 'red'], ['12', '♠', 'black'], ['11', '♥', 'red'], ['10', '♠', 'black']]\n",
      "--------------------------------------------------------------------------------------\n"
     ]
    },
    {
     "name": "stdin",
     "output_type": "stream",
     "text": [
      "\n",
      "What is your next move?\n",
      "    Press '1': to move cards among tableaus\n",
      "    Press '2': to move cards from tableaus to foundations\n",
      "    Press '3': to open card in stock pile\n",
      "    Press '4': to move card from stock pile to tableaus\n",
      "    Press '5': to start new game\n",
      "     3\n"
     ]
    },
    {
     "name": "stdout",
     "output_type": "stream",
     "text": [
      "--------------------------------------------------------------------------------------\n",
      "You have the following visible cards :\n",
      " \n",
      "Stock pile : ['8', '♥', 'red']\n",
      "Foundation 1: []\n",
      "Foundation 2: []\n",
      "Foundation 3: ['1', '♠', 'black']\n",
      "Foundation 4: []\n",
      "\n",
      "\n",
      "Tableau 1: [['11', '♦', 'red']]\n",
      "Tableau 2: [['3', '♥', 'red']]\n",
      "Tableau 3: [['12', '♥', 'red'], ['11', '♠', 'black']]\n",
      "Tableau 4: [['5', '♣', 'black']]\n",
      "Tableau 5: [['11', '♣', 'black']]\n",
      "Tableau 6: [['7', '♣', 'black'], ['6', '♥', 'red'], ['5', '♠', 'black'], ['4', '♥', 'red'], ['3', '♣', 'black'], ['2', '♦', 'red']]\n",
      "Tableau 7: [['13', '♥', 'red'], ['12', '♠', 'black'], ['11', '♥', 'red'], ['10', '♠', 'black']]\n",
      "--------------------------------------------------------------------------------------\n"
     ]
    },
    {
     "name": "stdin",
     "output_type": "stream",
     "text": [
      "\n",
      "What is your next move?\n",
      "    Press '1': to move cards among tableaus\n",
      "    Press '2': to move cards from tableaus to foundations\n",
      "    Press '3': to open card in stock pile\n",
      "    Press '4': to move card from stock pile to tableaus\n",
      "    Press '5': to start new game\n",
      "     3\n"
     ]
    },
    {
     "name": "stdout",
     "output_type": "stream",
     "text": [
      "--------------------------------------------------------------------------------------\n",
      "You have the following visible cards :\n",
      " \n",
      "Stock pile : ['12', '♣', 'black']\n",
      "Foundation 1: []\n",
      "Foundation 2: []\n",
      "Foundation 3: ['1', '♠', 'black']\n",
      "Foundation 4: []\n",
      "\n",
      "\n",
      "Tableau 1: [['11', '♦', 'red']]\n",
      "Tableau 2: [['3', '♥', 'red']]\n",
      "Tableau 3: [['12', '♥', 'red'], ['11', '♠', 'black']]\n",
      "Tableau 4: [['5', '♣', 'black']]\n",
      "Tableau 5: [['11', '♣', 'black']]\n",
      "Tableau 6: [['7', '♣', 'black'], ['6', '♥', 'red'], ['5', '♠', 'black'], ['4', '♥', 'red'], ['3', '♣', 'black'], ['2', '♦', 'red']]\n",
      "Tableau 7: [['13', '♥', 'red'], ['12', '♠', 'black'], ['11', '♥', 'red'], ['10', '♠', 'black']]\n",
      "--------------------------------------------------------------------------------------\n"
     ]
    },
    {
     "name": "stdin",
     "output_type": "stream",
     "text": [
      "\n",
      "What is your next move?\n",
      "    Press '1': to move cards among tableaus\n",
      "    Press '2': to move cards from tableaus to foundations\n",
      "    Press '3': to open card in stock pile\n",
      "    Press '4': to move card from stock pile to tableaus\n",
      "    Press '5': to start new game\n",
      "     3\n"
     ]
    },
    {
     "name": "stdout",
     "output_type": "stream",
     "text": [
      "--------------------------------------------------------------------------------------\n",
      "You have the following visible cards :\n",
      " \n",
      "Stock pile : ['6', '♠', 'black']\n",
      "Foundation 1: []\n",
      "Foundation 2: []\n",
      "Foundation 3: ['1', '♠', 'black']\n",
      "Foundation 4: []\n",
      "\n",
      "\n",
      "Tableau 1: [['11', '♦', 'red']]\n",
      "Tableau 2: [['3', '♥', 'red']]\n",
      "Tableau 3: [['12', '♥', 'red'], ['11', '♠', 'black']]\n",
      "Tableau 4: [['5', '♣', 'black']]\n",
      "Tableau 5: [['11', '♣', 'black']]\n",
      "Tableau 6: [['7', '♣', 'black'], ['6', '♥', 'red'], ['5', '♠', 'black'], ['4', '♥', 'red'], ['3', '♣', 'black'], ['2', '♦', 'red']]\n",
      "Tableau 7: [['13', '♥', 'red'], ['12', '♠', 'black'], ['11', '♥', 'red'], ['10', '♠', 'black']]\n",
      "--------------------------------------------------------------------------------------\n"
     ]
    },
    {
     "name": "stdin",
     "output_type": "stream",
     "text": [
      "\n",
      "What is your next move?\n",
      "    Press '1': to move cards among tableaus\n",
      "    Press '2': to move cards from tableaus to foundations\n",
      "    Press '3': to open card in stock pile\n",
      "    Press '4': to move card from stock pile to tableaus\n",
      "    Press '5': to start new game\n",
      "     3\n"
     ]
    },
    {
     "name": "stdout",
     "output_type": "stream",
     "text": [
      "--------------------------------------------------------------------------------------\n",
      "You have the following visible cards :\n",
      " \n",
      "Stock pile : ['8', '♦', 'red']\n",
      "Foundation 1: []\n",
      "Foundation 2: []\n",
      "Foundation 3: ['1', '♠', 'black']\n",
      "Foundation 4: []\n",
      "\n",
      "\n",
      "Tableau 1: [['11', '♦', 'red']]\n",
      "Tableau 2: [['3', '♥', 'red']]\n",
      "Tableau 3: [['12', '♥', 'red'], ['11', '♠', 'black']]\n",
      "Tableau 4: [['5', '♣', 'black']]\n",
      "Tableau 5: [['11', '♣', 'black']]\n",
      "Tableau 6: [['7', '♣', 'black'], ['6', '♥', 'red'], ['5', '♠', 'black'], ['4', '♥', 'red'], ['3', '♣', 'black'], ['2', '♦', 'red']]\n",
      "Tableau 7: [['13', '♥', 'red'], ['12', '♠', 'black'], ['11', '♥', 'red'], ['10', '♠', 'black']]\n",
      "--------------------------------------------------------------------------------------\n"
     ]
    },
    {
     "name": "stdin",
     "output_type": "stream",
     "text": [
      "\n",
      "What is your next move?\n",
      "    Press '1': to move cards among tableaus\n",
      "    Press '2': to move cards from tableaus to foundations\n",
      "    Press '3': to open card in stock pile\n",
      "    Press '4': to move card from stock pile to tableaus\n",
      "    Press '5': to start new game\n",
      "     3\n"
     ]
    },
    {
     "name": "stdout",
     "output_type": "stream",
     "text": [
      "--------------------------------------------------------------------------------------\n",
      "You have the following visible cards :\n",
      " \n",
      "Stock pile : ['3', '♦', 'red']\n",
      "Foundation 1: []\n",
      "Foundation 2: []\n",
      "Foundation 3: ['1', '♠', 'black']\n",
      "Foundation 4: []\n",
      "\n",
      "\n",
      "Tableau 1: [['11', '♦', 'red']]\n",
      "Tableau 2: [['3', '♥', 'red']]\n",
      "Tableau 3: [['12', '♥', 'red'], ['11', '♠', 'black']]\n",
      "Tableau 4: [['5', '♣', 'black']]\n",
      "Tableau 5: [['11', '♣', 'black']]\n",
      "Tableau 6: [['7', '♣', 'black'], ['6', '♥', 'red'], ['5', '♠', 'black'], ['4', '♥', 'red'], ['3', '♣', 'black'], ['2', '♦', 'red']]\n",
      "Tableau 7: [['13', '♥', 'red'], ['12', '♠', 'black'], ['11', '♥', 'red'], ['10', '♠', 'black']]\n",
      "--------------------------------------------------------------------------------------\n"
     ]
    },
    {
     "name": "stdin",
     "output_type": "stream",
     "text": [
      "\n",
      "What is your next move?\n",
      "    Press '1': to move cards among tableaus\n",
      "    Press '2': to move cards from tableaus to foundations\n",
      "    Press '3': to open card in stock pile\n",
      "    Press '4': to move card from stock pile to tableaus\n",
      "    Press '5': to start new game\n",
      "     3\n"
     ]
    },
    {
     "name": "stdout",
     "output_type": "stream",
     "text": [
      "--------------------------------------------------------------------------------------\n",
      "You have the following visible cards :\n",
      " \n",
      "Stock pile : ['8', '♠', 'black']\n",
      "Foundation 1: []\n",
      "Foundation 2: []\n",
      "Foundation 3: ['1', '♠', 'black']\n",
      "Foundation 4: []\n",
      "\n",
      "\n",
      "Tableau 1: [['11', '♦', 'red']]\n",
      "Tableau 2: [['3', '♥', 'red']]\n",
      "Tableau 3: [['12', '♥', 'red'], ['11', '♠', 'black']]\n",
      "Tableau 4: [['5', '♣', 'black']]\n",
      "Tableau 5: [['11', '♣', 'black']]\n",
      "Tableau 6: [['7', '♣', 'black'], ['6', '♥', 'red'], ['5', '♠', 'black'], ['4', '♥', 'red'], ['3', '♣', 'black'], ['2', '♦', 'red']]\n",
      "Tableau 7: [['13', '♥', 'red'], ['12', '♠', 'black'], ['11', '♥', 'red'], ['10', '♠', 'black']]\n",
      "--------------------------------------------------------------------------------------\n"
     ]
    },
    {
     "name": "stdin",
     "output_type": "stream",
     "text": [
      "\n",
      "What is your next move?\n",
      "    Press '1': to move cards among tableaus\n",
      "    Press '2': to move cards from tableaus to foundations\n",
      "    Press '3': to open card in stock pile\n",
      "    Press '4': to move card from stock pile to tableaus\n",
      "    Press '5': to start new game\n",
      "     3\n"
     ]
    },
    {
     "name": "stdout",
     "output_type": "stream",
     "text": [
      "--------------------------------------------------------------------------------------\n",
      "You have the following visible cards :\n",
      " \n",
      "Stock pile : ['2', '♥', 'red']\n",
      "Foundation 1: []\n",
      "Foundation 2: []\n",
      "Foundation 3: ['1', '♠', 'black']\n",
      "Foundation 4: []\n",
      "\n",
      "\n",
      "Tableau 1: [['11', '♦', 'red']]\n",
      "Tableau 2: [['3', '♥', 'red']]\n",
      "Tableau 3: [['12', '♥', 'red'], ['11', '♠', 'black']]\n",
      "Tableau 4: [['5', '♣', 'black']]\n",
      "Tableau 5: [['11', '♣', 'black']]\n",
      "Tableau 6: [['7', '♣', 'black'], ['6', '♥', 'red'], ['5', '♠', 'black'], ['4', '♥', 'red'], ['3', '♣', 'black'], ['2', '♦', 'red']]\n",
      "Tableau 7: [['13', '♥', 'red'], ['12', '♠', 'black'], ['11', '♥', 'red'], ['10', '♠', 'black']]\n",
      "--------------------------------------------------------------------------------------\n"
     ]
    },
    {
     "name": "stdin",
     "output_type": "stream",
     "text": [
      "\n",
      "What is your next move?\n",
      "    Press '1': to move cards among tableaus\n",
      "    Press '2': to move cards from tableaus to foundations\n",
      "    Press '3': to open card in stock pile\n",
      "    Press '4': to move card from stock pile to tableaus\n",
      "    Press '5': to start new game\n",
      "     3\n"
     ]
    },
    {
     "name": "stdout",
     "output_type": "stream",
     "text": [
      "--------------------------------------------------------------------------------------\n",
      "You have the following visible cards :\n",
      " \n",
      "Stock pile : ['3', '♠', 'black']\n",
      "Foundation 1: []\n",
      "Foundation 2: []\n",
      "Foundation 3: ['1', '♠', 'black']\n",
      "Foundation 4: []\n",
      "\n",
      "\n",
      "Tableau 1: [['11', '♦', 'red']]\n",
      "Tableau 2: [['3', '♥', 'red']]\n",
      "Tableau 3: [['12', '♥', 'red'], ['11', '♠', 'black']]\n",
      "Tableau 4: [['5', '♣', 'black']]\n",
      "Tableau 5: [['11', '♣', 'black']]\n",
      "Tableau 6: [['7', '♣', 'black'], ['6', '♥', 'red'], ['5', '♠', 'black'], ['4', '♥', 'red'], ['3', '♣', 'black'], ['2', '♦', 'red']]\n",
      "Tableau 7: [['13', '♥', 'red'], ['12', '♠', 'black'], ['11', '♥', 'red'], ['10', '♠', 'black']]\n",
      "--------------------------------------------------------------------------------------\n"
     ]
    },
    {
     "name": "stdin",
     "output_type": "stream",
     "text": [
      "\n",
      "What is your next move?\n",
      "    Press '1': to move cards among tableaus\n",
      "    Press '2': to move cards from tableaus to foundations\n",
      "    Press '3': to open card in stock pile\n",
      "    Press '4': to move card from stock pile to tableaus\n",
      "    Press '5': to start new game\n",
      "     3\n"
     ]
    },
    {
     "name": "stdout",
     "output_type": "stream",
     "text": [
      "--------------------------------------------------------------------------------------\n",
      "You have the following visible cards :\n",
      " \n",
      "Stock pile : ['4', '♠', 'black']\n",
      "Foundation 1: []\n",
      "Foundation 2: []\n",
      "Foundation 3: ['1', '♠', 'black']\n",
      "Foundation 4: []\n",
      "\n",
      "\n",
      "Tableau 1: [['11', '♦', 'red']]\n",
      "Tableau 2: [['3', '♥', 'red']]\n",
      "Tableau 3: [['12', '♥', 'red'], ['11', '♠', 'black']]\n",
      "Tableau 4: [['5', '♣', 'black']]\n",
      "Tableau 5: [['11', '♣', 'black']]\n",
      "Tableau 6: [['7', '♣', 'black'], ['6', '♥', 'red'], ['5', '♠', 'black'], ['4', '♥', 'red'], ['3', '♣', 'black'], ['2', '♦', 'red']]\n",
      "Tableau 7: [['13', '♥', 'red'], ['12', '♠', 'black'], ['11', '♥', 'red'], ['10', '♠', 'black']]\n",
      "--------------------------------------------------------------------------------------\n"
     ]
    },
    {
     "name": "stdin",
     "output_type": "stream",
     "text": [
      "\n",
      "What is your next move?\n",
      "    Press '1': to move cards among tableaus\n",
      "    Press '2': to move cards from tableaus to foundations\n",
      "    Press '3': to open card in stock pile\n",
      "    Press '4': to move card from stock pile to tableaus\n",
      "    Press '5': to start new game\n",
      "     3\n"
     ]
    },
    {
     "name": "stdout",
     "output_type": "stream",
     "text": [
      "--------------------------------------------------------------------------------------\n",
      "You have the following visible cards :\n",
      " \n",
      "Stock pile : ['5', '♥', 'red']\n",
      "Foundation 1: []\n",
      "Foundation 2: []\n",
      "Foundation 3: ['1', '♠', 'black']\n",
      "Foundation 4: []\n",
      "\n",
      "\n",
      "Tableau 1: [['11', '♦', 'red']]\n",
      "Tableau 2: [['3', '♥', 'red']]\n",
      "Tableau 3: [['12', '♥', 'red'], ['11', '♠', 'black']]\n",
      "Tableau 4: [['5', '♣', 'black']]\n",
      "Tableau 5: [['11', '♣', 'black']]\n",
      "Tableau 6: [['7', '♣', 'black'], ['6', '♥', 'red'], ['5', '♠', 'black'], ['4', '♥', 'red'], ['3', '♣', 'black'], ['2', '♦', 'red']]\n",
      "Tableau 7: [['13', '♥', 'red'], ['12', '♠', 'black'], ['11', '♥', 'red'], ['10', '♠', 'black']]\n",
      "--------------------------------------------------------------------------------------\n"
     ]
    },
    {
     "name": "stdin",
     "output_type": "stream",
     "text": [
      "\n",
      "What is your next move?\n",
      "    Press '1': to move cards among tableaus\n",
      "    Press '2': to move cards from tableaus to foundations\n",
      "    Press '3': to open card in stock pile\n",
      "    Press '4': to move card from stock pile to tableaus\n",
      "    Press '5': to start new game\n",
      "     5\n"
     ]
    },
    {
     "name": "stdout",
     "output_type": "stream",
     "text": [
      "The game has been restarted \n",
      "\n"
     ]
    },
    {
     "ename": "KeyboardInterrupt",
     "evalue": "Interrupted by user",
     "output_type": "error",
     "traceback": [
      "\u001b[0;31m---------------------------------------------------------------------------\u001b[0m",
      "\u001b[0;31mKeyboardInterrupt\u001b[0m                         Traceback (most recent call last)",
      "\u001b[0;32m<ipython-input-11-5f5fc908f02e>\u001b[0m in \u001b[0;36m<module>\u001b[0;34m\u001b[0m\n\u001b[1;32m      2\u001b[0m \u001b[0;32mwhile\u001b[0m \u001b[0mnext_move\u001b[0m \u001b[0;34m!=\u001b[0m \u001b[0;36m5\u001b[0m\u001b[0;34m:\u001b[0m\u001b[0;34m\u001b[0m\u001b[0;34m\u001b[0m\u001b[0m\n\u001b[1;32m      3\u001b[0m     \u001b[0;32mimport\u001b[0m \u001b[0mrandom\u001b[0m\u001b[0;34m\u001b[0m\u001b[0;34m\u001b[0m\u001b[0m\n\u001b[0;32m----> 4\u001b[0;31m     \u001b[0mplay_answer\u001b[0m \u001b[0;34m=\u001b[0m \u001b[0mplay_decision\u001b[0m\u001b[0;34m(\u001b[0m\u001b[0;34m)\u001b[0m\u001b[0;34m\u001b[0m\u001b[0;34m\u001b[0m\u001b[0m\n\u001b[0m\u001b[1;32m      5\u001b[0m     \u001b[0mstock_cards\u001b[0m\u001b[0;34m,\u001b[0m \u001b[0mvisible_stock_card\u001b[0m\u001b[0;34m,\u001b[0m \u001b[0mfoundations\u001b[0m\u001b[0;34m,\u001b[0m \u001b[0mtableaus\u001b[0m\u001b[0;34m,\u001b[0m \u001b[0mvisible_tableaus_cards\u001b[0m \u001b[0;34m=\u001b[0m \u001b[0mdeal_cards\u001b[0m\u001b[0;34m(\u001b[0m\u001b[0mplay_answer\u001b[0m\u001b[0;34m)\u001b[0m\u001b[0;34m\u001b[0m\u001b[0;34m\u001b[0m\u001b[0m\n\u001b[1;32m      6\u001b[0m \u001b[0;34m\u001b[0m\u001b[0m\n",
      "\u001b[0;32m<ipython-input-1-65915753178b>\u001b[0m in \u001b[0;36mplay_decision\u001b[0;34m()\u001b[0m\n\u001b[1;32m      1\u001b[0m \u001b[0;32mdef\u001b[0m \u001b[0mplay_decision\u001b[0m\u001b[0;34m(\u001b[0m\u001b[0;34m)\u001b[0m\u001b[0;34m:\u001b[0m\u001b[0;34m\u001b[0m\u001b[0;34m\u001b[0m\u001b[0m\n\u001b[0;32m----> 2\u001b[0;31m     \u001b[0mplay_answer\u001b[0m \u001b[0;34m=\u001b[0m \u001b[0minput\u001b[0m\u001b[0;34m(\u001b[0m\u001b[0;34m'Do you wanna play solitaire? Press \\'y\\' for yes; \\'n\\' for no: \\n'\u001b[0m\u001b[0;34m)\u001b[0m\u001b[0;34m\u001b[0m\u001b[0;34m\u001b[0m\u001b[0m\n\u001b[0m\u001b[1;32m      3\u001b[0m     \u001b[0;32mreturn\u001b[0m \u001b[0mplay_answer\u001b[0m\u001b[0;34m\u001b[0m\u001b[0;34m\u001b[0m\u001b[0m\n",
      "\u001b[0;32m~/opt/anaconda3/lib/python3.8/site-packages/ipykernel/kernelbase.py\u001b[0m in \u001b[0;36mraw_input\u001b[0;34m(self, prompt)\u001b[0m\n\u001b[1;32m    858\u001b[0m                 \u001b[0;34m\"raw_input was called, but this frontend does not support input requests.\"\u001b[0m\u001b[0;34m\u001b[0m\u001b[0;34m\u001b[0m\u001b[0m\n\u001b[1;32m    859\u001b[0m             )\n\u001b[0;32m--> 860\u001b[0;31m         return self._input_request(str(prompt),\n\u001b[0m\u001b[1;32m    861\u001b[0m             \u001b[0mself\u001b[0m\u001b[0;34m.\u001b[0m\u001b[0m_parent_ident\u001b[0m\u001b[0;34m,\u001b[0m\u001b[0;34m\u001b[0m\u001b[0;34m\u001b[0m\u001b[0m\n\u001b[1;32m    862\u001b[0m             \u001b[0mself\u001b[0m\u001b[0;34m.\u001b[0m\u001b[0m_parent_header\u001b[0m\u001b[0;34m,\u001b[0m\u001b[0;34m\u001b[0m\u001b[0;34m\u001b[0m\u001b[0m\n",
      "\u001b[0;32m~/opt/anaconda3/lib/python3.8/site-packages/ipykernel/kernelbase.py\u001b[0m in \u001b[0;36m_input_request\u001b[0;34m(self, prompt, ident, parent, password)\u001b[0m\n\u001b[1;32m    902\u001b[0m             \u001b[0;32mexcept\u001b[0m \u001b[0mKeyboardInterrupt\u001b[0m\u001b[0;34m:\u001b[0m\u001b[0;34m\u001b[0m\u001b[0;34m\u001b[0m\u001b[0m\n\u001b[1;32m    903\u001b[0m                 \u001b[0;31m# re-raise KeyboardInterrupt, to truncate traceback\u001b[0m\u001b[0;34m\u001b[0m\u001b[0;34m\u001b[0m\u001b[0;34m\u001b[0m\u001b[0m\n\u001b[0;32m--> 904\u001b[0;31m                 \u001b[0;32mraise\u001b[0m \u001b[0mKeyboardInterrupt\u001b[0m\u001b[0;34m(\u001b[0m\u001b[0;34m\"Interrupted by user\"\u001b[0m\u001b[0;34m)\u001b[0m \u001b[0;32mfrom\u001b[0m \u001b[0;32mNone\u001b[0m\u001b[0;34m\u001b[0m\u001b[0;34m\u001b[0m\u001b[0m\n\u001b[0m\u001b[1;32m    905\u001b[0m             \u001b[0;32mexcept\u001b[0m \u001b[0mException\u001b[0m \u001b[0;32mas\u001b[0m \u001b[0me\u001b[0m\u001b[0;34m:\u001b[0m\u001b[0;34m\u001b[0m\u001b[0;34m\u001b[0m\u001b[0m\n\u001b[1;32m    906\u001b[0m                 \u001b[0mself\u001b[0m\u001b[0;34m.\u001b[0m\u001b[0mlog\u001b[0m\u001b[0;34m.\u001b[0m\u001b[0mwarning\u001b[0m\u001b[0;34m(\u001b[0m\u001b[0;34m\"Invalid Message:\"\u001b[0m\u001b[0;34m,\u001b[0m \u001b[0mexc_info\u001b[0m\u001b[0;34m=\u001b[0m\u001b[0;32mTrue\u001b[0m\u001b[0;34m)\u001b[0m\u001b[0;34m\u001b[0m\u001b[0;34m\u001b[0m\u001b[0m\n",
      "\u001b[0;31mKeyboardInterrupt\u001b[0m: Interrupted by user"
     ]
    }
   ],
   "source": [
    "next_move = 0 \n",
    "while next_move != 5:\n",
    "    import random\n",
    "    play_answer = play_decision()\n",
    "    stock_cards, visible_stock_card, foundations, tableaus, visible_tableaus_cards = deal_cards(play_answer)\n",
    "\n",
    "    total_cards_in_foundations = 0\n",
    "    count = 0\n",
    "\n",
    "    while total_cards_in_foundations < 52:\n",
    "        print_frontend(visible_stock_card, foundations, visible_tableaus_cards)\n",
    "        next_move = main_next_move()\n",
    "        if next_move == '1':\n",
    "            tableaus, visible_tableaus_cards = move_among_tableaus(tableaus, visible_tableaus_cards)\n",
    "        elif next_move == '2':\n",
    "            foundations, tableaus, visible_tableaus_cards, count = move_tableaus_to_foundations(foundations,\n",
    "                                                                                         tableaus, visible_tableaus_cards)\n",
    "            total_cards_in_foundations += count\n",
    "            print(total_cards_in_foundations)\n",
    "        elif next_move == '3':\n",
    "            stock_cards, visible_stock_card = open_stock_card(stock_cards, visible_stock_card)\n",
    "        elif next_move == '4':\n",
    "            stock_cards, visible_stock_card, visible_tableaus_cards = move_stock_card_to_tableaus(stock_cards,\n",
    "                                                                                                  visible_stock_card,\n",
    "                                                                                                  visible_tableaus_cards)\n",
    "        else:\n",
    "            total_cards_in_foundations = quit_game()"
   ]
  },
  {
   "cell_type": "code",
   "execution_count": null,
   "metadata": {},
   "outputs": [],
   "source": []
  }
 ],
 "metadata": {
  "kernelspec": {
   "display_name": "Python 3",
   "language": "python",
   "name": "python3"
  },
  "language_info": {
   "codemirror_mode": {
    "name": "ipython",
    "version": 3
   },
   "file_extension": ".py",
   "mimetype": "text/x-python",
   "name": "python",
   "nbconvert_exporter": "python",
   "pygments_lexer": "ipython3",
   "version": "3.8.5"
  }
 },
 "nbformat": 4,
 "nbformat_minor": 4
}
